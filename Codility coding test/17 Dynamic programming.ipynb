{
 "cells": [
  {
   "cell_type": "markdown",
   "id": "affiliated-minority",
   "metadata": {},
   "source": [
    "# 17 Dynamic programming"
   ]
  },
  {
   "cell_type": "code",
   "execution_count": 7,
   "id": "functioning-orange",
   "metadata": {},
   "outputs": [],
   "source": [
    "# The dynamic algorithm for finding change with optimized memory\n",
    "\n",
    "def dynamic_coin_changing(C, k):\n",
    "    n = len(C)\n",
    "    dp = [0] + [k] * k\n",
    "    for i in range(1, n + 1):\n",
    "        for j in range(C[i - 1], k + 1):\n",
    "            dp[j] = min(dp[j - C[i - 1]] + 1, dp[j])\n",
    "    return dp"
   ]
  },
  {
   "cell_type": "code",
   "execution_count": 8,
   "id": "unknown-antibody",
   "metadata": {},
   "outputs": [
    {
     "name": "stdout",
     "output_type": "stream",
     "text": [
      "[0, 1, 2, 1, 1, 2, 2]\n"
     ]
    }
   ],
   "source": [
    "C=[1,3,4]\n",
    "k=6\n",
    "print(dynamic_coin_changing(C,k))"
   ]
  },
  {
   "cell_type": "markdown",
   "id": "contained-durham",
   "metadata": {},
   "source": [
    "# MinAbsSum\n",
    "\n",
    "For a given array A of N integers and a sequence S of N integers from the set {−1, 1}, we define val(A, S) as follows:\n",
    "\n",
    "val(A, S) = |sum{ A[i]*S[i] for i = 0..N−1 }|\n",
    "\n",
    "(Assume that the sum of zero elements equals zero.)\n",
    "\n",
    "For a given array A, we are looking for such a sequence S that minimizes val(A,S).\n",
    "\n",
    "Write a function:\n",
    "\n",
    "def solution(A)\n",
    "\n",
    "that, given an array A of N integers, computes the minimum value of val(A,S) from all possible values of val(A,S) for all possible sequences S of N integers from the set {−1, 1}.\n",
    "\n",
    "For example, given array:\n",
    "\n",
    "  A[0] =  1\n",
    "  A[1] =  5\n",
    "  A[2] =  2\n",
    "  A[3] = -2\n",
    "your function should return 0, since for S = [−1, 1, −1, 1], val(A, S) = 0, which is the minimum possible value.\n",
    "\n",
    "Write an efficient algorithm for the following assumptions:\n",
    "\n",
    "N is an integer within the range [0..20,000];\n",
    "each element of array A is an integer within the range [−100..100]."
   ]
  },
  {
   "cell_type": "code",
   "execution_count": 1,
   "id": "handmade-vaccine",
   "metadata": {},
   "outputs": [],
   "source": [
    "def solution(A):\n",
    "    \n",
    "    a_sorted = sorted(A)\n",
    "    \n",
    "    end = len(A) - 1\n",
    "    result = abs(a_sorted[0] + a_sorted[end])\n",
    "    for index in range(len(A)):\n",
    "        \n",
    "        current = end\n",
    "        current_result = abs(a_sorted[index] + a_sorted[current])\n",
    "        while current >= 0 and abs(a_sorted[index] + a_sorted[current]) <= current_result:\n",
    "            \n",
    "            current_result = abs(a_sorted[index] + a_sorted[current])\n",
    "            end = current\n",
    "            current -= 1\n",
    "        \n",
    "        if current_result < result:\n",
    "            result = current_result\n",
    "    return result"
   ]
  },
  {
   "cell_type": "code",
   "execution_count": 2,
   "id": "elegant-compatibility",
   "metadata": {},
   "outputs": [
    {
     "name": "stdout",
     "output_type": "stream",
     "text": [
      "0\n"
     ]
    }
   ],
   "source": [
    "A=[1,5,2,-2]\n",
    "print(solution(A))"
   ]
  },
  {
   "cell_type": "markdown",
   "id": "demonstrated-auckland",
   "metadata": {},
   "source": [
    "# NumberSolitaire\n",
    "\n",
    "A game for one player is played on a board consisting of N consecutive squares, numbered from 0 to N − 1. There is a number written on each square. A non-empty array A of N integers contains the numbers written on the squares. Moreover, some squares can be marked during the game.\n",
    "\n",
    "At the beginning of the game, there is a pebble on square number 0 and this is the only square on the board which is marked. The goal of the game is to move the pebble to square number N − 1.\n",
    "\n",
    "During each turn we throw a six-sided die, with numbers from 1 to 6 on its faces, and consider the number K, which shows on the upper face after the die comes to rest. Then we move the pebble standing on square number I to square number I + K, providing that square number I + K exists. If square number I + K does not exist, we throw the die again until we obtain a valid move. Finally, we mark square number I + K.\n",
    "\n",
    "After the game finishes (when the pebble is standing on square number N − 1), we calculate the result. The result of the game is the sum of the numbers written on all marked squares.\n",
    "\n",
    "For example, given the following array:\n",
    "\n",
    "    A[0] = 1\n",
    "    A[1] = -2\n",
    "    A[2] = 0\n",
    "    A[3] = 9\n",
    "    A[4] = -1\n",
    "    A[5] = -2\n",
    "one possible game could be as follows:\n",
    "\n",
    "the pebble is on square number 0, which is marked;\n",
    "we throw 3; the pebble moves from square number 0 to square number 3; we mark square number 3;\n",
    "we throw 5; the pebble does not move, since there is no square number 8 on the board;\n",
    "we throw 2; the pebble moves to square number 5; we mark this square and the game ends.\n",
    "The marked squares are 0, 3 and 5, so the result of the game is 1 + 9 + (−2) = 8. This is the maximal possible result that can be achieved on this board.\n",
    "\n",
    "Write a function:\n",
    "\n",
    "def solution(A)\n",
    "\n",
    "that, given a non-empty array A of N integers, returns the maximal result that can be achieved on the board represented by array A.\n",
    "\n",
    "For example, given the array\n",
    "\n",
    "    A[0] = 1\n",
    "    A[1] = -2\n",
    "    A[2] = 0\n",
    "    A[3] = 9\n",
    "    A[4] = -1\n",
    "    A[5] = -2\n",
    "the function should return 8, as explained above.\n",
    "\n",
    "Write an efficient algorithm for the following assumptions:\n",
    "\n",
    "N is an integer within the range [2..100,000];\n",
    "each element of array A is an integer within the range [−10,000..10,000]."
   ]
  },
  {
   "cell_type": "code",
   "execution_count": 3,
   "id": "final-valuation",
   "metadata": {},
   "outputs": [],
   "source": [
    "def solution(A):\n",
    "\n",
    "    n = len(A)\n",
    "    result = [0] * n\n",
    "    result[0] = A[0]\n",
    "    for index in range(1,n):\n",
    "        max_val = -1000000001\n",
    "        for max_it in range(6):\n",
    "            if index - max_it - 1 < 0:\n",
    "                break\n",
    "\n",
    "            if result[index-max_it-1] > max_val:\n",
    "                max_val = result[index-max_it-1]\n",
    "\n",
    "        result[index] = max_val + A[index]\n",
    "\n",
    "    return result[-1]"
   ]
  },
  {
   "cell_type": "code",
   "execution_count": 4,
   "id": "hearing-ministry",
   "metadata": {},
   "outputs": [
    {
     "name": "stdout",
     "output_type": "stream",
     "text": [
      "8\n"
     ]
    }
   ],
   "source": [
    "A=[1,-2,0,9,-1,-2]\n",
    "print(solution(A))"
   ]
  },
  {
   "cell_type": "code",
   "execution_count": null,
   "id": "indian-gentleman",
   "metadata": {},
   "outputs": [],
   "source": []
  }
 ],
 "metadata": {
  "kernelspec": {
   "display_name": "Python 3",
   "language": "python",
   "name": "python3"
  },
  "language_info": {
   "codemirror_mode": {
    "name": "ipython",
    "version": 3
   },
   "file_extension": ".py",
   "mimetype": "text/x-python",
   "name": "python",
   "nbconvert_exporter": "python",
   "pygments_lexer": "ipython3",
   "version": "3.8.5"
  },
  "latex_envs": {
   "LaTeX_envs_menu_present": true,
   "autoclose": false,
   "autocomplete": true,
   "bibliofile": "biblio.bib",
   "cite_by": "apalike",
   "current_citInitial": 1,
   "eqLabelWithNumbers": true,
   "eqNumInitial": 1,
   "hotkeys": {
    "equation": "Ctrl-E",
    "itemize": "Ctrl-I"
   },
   "labels_anchors": false,
   "latex_user_defs": false,
   "report_style_numbering": false,
   "user_envs_cfg": false
  },
  "toc": {
   "base_numbering": 1,
   "nav_menu": {},
   "number_sections": false,
   "sideBar": true,
   "skip_h1_title": false,
   "title_cell": "Table of Contents",
   "title_sidebar": "Contents",
   "toc_cell": false,
   "toc_position": {},
   "toc_section_display": true,
   "toc_window_display": false
  },
  "varInspector": {
   "cols": {
    "lenName": 16,
    "lenType": 16,
    "lenVar": 40
   },
   "kernels_config": {
    "python": {
     "delete_cmd_postfix": "",
     "delete_cmd_prefix": "del ",
     "library": "var_list.py",
     "varRefreshCmd": "print(var_dic_list())"
    },
    "r": {
     "delete_cmd_postfix": ") ",
     "delete_cmd_prefix": "rm(",
     "library": "var_list.r",
     "varRefreshCmd": "cat(var_dic_list()) "
    }
   },
   "types_to_exclude": [
    "module",
    "function",
    "builtin_function_or_method",
    "instance",
    "_Feature"
   ],
   "window_display": false
  }
 },
 "nbformat": 4,
 "nbformat_minor": 5
}
