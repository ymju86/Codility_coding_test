{
 "cells": [
  {
   "cell_type": "markdown",
   "id": "according-proxy",
   "metadata": {},
   "source": [
    "# 16 Greedy algorithms"
   ]
  },
  {
   "cell_type": "code",
   "execution_count": 5,
   "id": "certain-trash",
   "metadata": {},
   "outputs": [],
   "source": [
    "# Canoeist in O(n) solution\n",
    "\n",
    "def greedyCanoeistB(W, k):\n",
    "    canoes = 0\n",
    "    j = 0\n",
    "    i = len(W) - 1\n",
    "    while (i >= j):\n",
    "        if W[i] + W[j] <= k:\n",
    "            j += 1;\n",
    "        canoes += 1;\n",
    "        i -= 1\n",
    "    return canoes"
   ]
  },
  {
   "cell_type": "code",
   "execution_count": null,
   "id": "assisted-profit",
   "metadata": {},
   "outputs": [],
   "source": []
  },
  {
   "cell_type": "markdown",
   "id": "prime-insulation",
   "metadata": {},
   "source": [
    "# MaxNonoverlappingSegments\n",
    "\n",
    "Located on a line are N segments, numbered from 0 to N − 1, whose positions are given in arrays A and B. For each I (0 ≤ I < N) the position of segment I is from A[I] to B[I] (inclusive). The segments are sorted by their ends, which means that B[K] ≤ B[K + 1] for K such that 0 ≤ K < N − 1.\n",
    "\n",
    "Two segments I and J, such that I ≠ J, are overlapping if they share at least one common point. In other words, A[I] ≤ A[J] ≤ B[I] or A[J] ≤ A[I] ≤ B[J].\n",
    "\n",
    "We say that the set of segments is non-overlapping if it contains no two overlapping segments. The goal is to find the size of a non-overlapping set containing the maximal number of segments.\n",
    "\n",
    "For example, consider arrays A, B such that:\n",
    "\n",
    "    A[0] = 1    B[0] = 5\n",
    "    A[1] = 3    B[1] = 6\n",
    "    A[2] = 7    B[2] = 8\n",
    "    A[3] = 9    B[3] = 9\n",
    "    A[4] = 9    B[4] = 10\n",
    "The segments are shown in the figure below.\n",
    "\n",
    "\n",
    "\n",
    "The size of a non-overlapping set containing a maximal number of segments is 3. For example, possible sets are {0, 2, 3}, {0, 2, 4}, {1, 2, 3} or {1, 2, 4}. There is no non-overlapping set with four segments.\n",
    "\n",
    "Write a function:\n",
    "\n",
    "def solution(A, B)\n",
    "\n",
    "that, given two arrays A and B consisting of N integers, returns the size of a non-overlapping set containing a maximal number of segments.\n",
    "\n",
    "For example, given arrays A, B shown above, the function should return 3, as explained above.\n",
    "\n",
    "Write an efficient algorithm for the following assumptions:\n",
    "\n",
    "N is an integer within the range [0..30,000];\n",
    "each element of arrays A, B is an integer within the range [0..1,000,000,000];\n",
    "A[I] ≤ B[I], for each I (0 ≤ I < N);\n",
    "B[K] ≤ B[K + 1], for each K (0 ≤ K < N − 1)."
   ]
  },
  {
   "cell_type": "code",
   "execution_count": 1,
   "id": "welsh-challenge",
   "metadata": {},
   "outputs": [],
   "source": [
    "def solution(A, B):\n",
    "\n",
    "    n = len(A)\n",
    "\n",
    "    last_b = -1\n",
    "    result = 0\n",
    "    for index in range(n):\n",
    "        if A[index] > last_b:\n",
    "            result += 1\n",
    "            last_b = B[index]\n",
    "\n",
    "    return result"
   ]
  },
  {
   "cell_type": "code",
   "execution_count": 2,
   "id": "limiting-supplier",
   "metadata": {},
   "outputs": [
    {
     "name": "stdout",
     "output_type": "stream",
     "text": [
      "3\n"
     ]
    }
   ],
   "source": [
    "A=[1,3,7,9,9]\n",
    "B=[5,6,8,9,10]\n",
    "print(solution(A,B))"
   ]
  },
  {
   "cell_type": "markdown",
   "id": "compound-attention",
   "metadata": {},
   "source": [
    "# TieRopes\n",
    "\n",
    "There are N ropes numbered from 0 to N − 1, whose lengths are given in an array A, lying on the floor in a line. For each I (0 ≤ I < N), the length of rope I on the line is A[I].\n",
    "\n",
    "We say that two ropes I and I + 1 are adjacent. Two adjacent ropes can be tied together with a knot, and the length of the tied rope is the sum of lengths of both ropes. The resulting new rope can then be tied again.\n",
    "\n",
    "For a given integer K, the goal is to tie the ropes in such a way that the number of ropes whose length is greater than or equal to K is maximal.\n",
    "\n",
    "For example, consider K = 4 and array A such that:\n",
    "\n",
    "    A[0] = 1\n",
    "    A[1] = 2\n",
    "    A[2] = 3\n",
    "    A[3] = 4\n",
    "    A[4] = 1\n",
    "    A[5] = 1\n",
    "    A[6] = 3\n",
    "The ropes are shown in the figure below.\n",
    "\n",
    "\n",
    "\n",
    "We can tie:\n",
    "\n",
    "rope 1 with rope 2 to produce a rope of length A[1] + A[2] = 5;\n",
    "rope 4 with rope 5 with rope 6 to produce a rope of length A[4] + A[5] + A[6] = 5.\n",
    "After that, there will be three ropes whose lengths are greater than or equal to K = 4. It is not possible to produce four such ropes.\n",
    "\n",
    "Write a function:\n",
    "\n",
    "def solution(K, A)\n",
    "\n",
    "that, given an integer K and a non-empty array A of N integers, returns the maximum number of ropes of length greater than or equal to K that can be created.\n",
    "\n",
    "For example, given K = 4 and array A such that:\n",
    "\n",
    "    A[0] = 1\n",
    "    A[1] = 2\n",
    "    A[2] = 3\n",
    "    A[3] = 4\n",
    "    A[4] = 1\n",
    "    A[5] = 1\n",
    "    A[6] = 3\n",
    "the function should return 3, as explained above.\n",
    "\n",
    "Write an efficient algorithm for the following assumptions:\n",
    "\n",
    "N is an integer within the range [1..100,000];\n",
    "K is an integer within the range [1..1,000,000,000];\n",
    "each element of array A is an integer within the range [1..1,000,000,000]."
   ]
  },
  {
   "cell_type": "code",
   "execution_count": 3,
   "id": "serial-transcription",
   "metadata": {},
   "outputs": [],
   "source": [
    "def solution(K, A):\n",
    "\n",
    "    result = 0\n",
    "    curr = 0\n",
    "\n",
    "    for x in A:\n",
    "        curr += x\n",
    "        if curr >= K:\n",
    "            result += 1\n",
    "            curr = 0\n",
    "            continue\n",
    "\n",
    "\n",
    "    return result"
   ]
  },
  {
   "cell_type": "code",
   "execution_count": 4,
   "id": "christian-leone",
   "metadata": {},
   "outputs": [
    {
     "name": "stdout",
     "output_type": "stream",
     "text": [
      "3\n"
     ]
    }
   ],
   "source": [
    "A=[1,2,3,4,1,1,3]\n",
    "K=4\n",
    "print(solution(K,A))"
   ]
  }
 ],
 "metadata": {
  "kernelspec": {
   "display_name": "Python 3",
   "language": "python",
   "name": "python3"
  },
  "language_info": {
   "codemirror_mode": {
    "name": "ipython",
    "version": 3
   },
   "file_extension": ".py",
   "mimetype": "text/x-python",
   "name": "python",
   "nbconvert_exporter": "python",
   "pygments_lexer": "ipython3",
   "version": "3.8.5"
  },
  "latex_envs": {
   "LaTeX_envs_menu_present": true,
   "autoclose": false,
   "autocomplete": true,
   "bibliofile": "biblio.bib",
   "cite_by": "apalike",
   "current_citInitial": 1,
   "eqLabelWithNumbers": true,
   "eqNumInitial": 1,
   "hotkeys": {
    "equation": "Ctrl-E",
    "itemize": "Ctrl-I"
   },
   "labels_anchors": false,
   "latex_user_defs": false,
   "report_style_numbering": false,
   "user_envs_cfg": false
  },
  "toc": {
   "base_numbering": 1,
   "nav_menu": {},
   "number_sections": false,
   "sideBar": true,
   "skip_h1_title": false,
   "title_cell": "Table of Contents",
   "title_sidebar": "Contents",
   "toc_cell": false,
   "toc_position": {},
   "toc_section_display": true,
   "toc_window_display": false
  },
  "varInspector": {
   "cols": {
    "lenName": 16,
    "lenType": 16,
    "lenVar": 40
   },
   "kernels_config": {
    "python": {
     "delete_cmd_postfix": "",
     "delete_cmd_prefix": "del ",
     "library": "var_list.py",
     "varRefreshCmd": "print(var_dic_list())"
    },
    "r": {
     "delete_cmd_postfix": ") ",
     "delete_cmd_prefix": "rm(",
     "library": "var_list.r",
     "varRefreshCmd": "cat(var_dic_list()) "
    }
   },
   "types_to_exclude": [
    "module",
    "function",
    "builtin_function_or_method",
    "instance",
    "_Feature"
   ],
   "window_display": false
  }
 },
 "nbformat": 4,
 "nbformat_minor": 5
}
