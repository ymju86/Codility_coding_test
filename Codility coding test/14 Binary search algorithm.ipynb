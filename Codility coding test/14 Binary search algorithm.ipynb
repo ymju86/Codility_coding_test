{
 "cells": [
  {
   "cell_type": "markdown",
   "id": "eligible-things",
   "metadata": {},
   "source": [
    "# 14 Binary search algorithm"
   ]
  },
  {
   "cell_type": "markdown",
   "id": "brave-disposal",
   "metadata": {},
   "source": [
    "# MinMaxDivision\n",
    "\n",
    "You are given integers K, M and a non-empty array A consisting of N integers. Every element of the array is not greater than M.\n",
    "\n",
    "You should divide this array into K blocks of consecutive elements. The size of the block is any integer between 0 and N. Every element of the array should belong to some block.\n",
    "\n",
    "The sum of the block from X to Y equals A[X] + A[X + 1] + ... + A[Y]. The sum of empty block equals 0.\n",
    "\n",
    "The large sum is the maximal sum of any block.\n",
    "\n",
    "For example, you are given integers K = 3, M = 5 and array A such that:\n",
    "\n",
    "  A[0] = 2\n",
    "  A[1] = 1\n",
    "  A[2] = 5\n",
    "  A[3] = 1\n",
    "  A[4] = 2\n",
    "  A[5] = 2\n",
    "  A[6] = 2\n",
    "The array can be divided, for example, into the following blocks:\n",
    "\n",
    "[2, 1, 5, 1, 2, 2, 2], [], [] with a large sum of 15;\n",
    "[2], [1, 5, 1, 2], [2, 2] with a large sum of 9;\n",
    "[2, 1, 5], [], [1, 2, 2, 2] with a large sum of 8;\n",
    "[2, 1], [5, 1], [2, 2, 2] with a large sum of 6.\n",
    "The goal is to minimize the large sum. In the above example, 6 is the minimal large sum.\n",
    "\n",
    "Write a function:\n",
    "\n",
    "def solution(K, M, A)\n",
    "\n",
    "that, given integers K, M and a non-empty array A consisting of N integers, returns the minimal large sum.\n",
    "\n",
    "For example, given K = 3, M = 5 and array A such that:\n",
    "\n",
    "  A[0] = 2\n",
    "  A[1] = 1\n",
    "  A[2] = 5\n",
    "  A[3] = 1\n",
    "  A[4] = 2\n",
    "  A[5] = 2\n",
    "  A[6] = 2\n",
    "the function should return 6, as explained above.\n",
    "\n",
    "Write an efficient algorithm for the following assumptions:\n",
    "\n",
    "N and K are integers within the range [1..100,000];\n",
    "M is an integer within the range [0..10,000];\n",
    "each element of array A is an integer within the range [0..M]."
   ]
  },
  {
   "cell_type": "code",
   "execution_count": 8,
   "id": "cardiovascular-jefferson",
   "metadata": {},
   "outputs": [],
   "source": [
    "def check(A, K, M, possible_sol):\n",
    "    \n",
    "    if possible_sol < M:\n",
    "        return False\n",
    "    current_sum = 0\n",
    "    result = 1\n",
    "    for x in A:\n",
    "        \n",
    "        if current_sum + x > possible_sol:\n",
    "            result += 1\n",
    "            current_sum = x\n",
    "            continue\n",
    "        \n",
    "        current_sum += x\n",
    "    \n",
    "    return result <= K\n",
    "\n",
    "\n",
    "def solution(K, M, A):\n",
    "    n = len(A)\n",
    "    M = max(A) # trust no one\n",
    "    end = n*M\n",
    "    \n",
    "    beg = 0\n",
    "    result = n*M\n",
    "    \n",
    "    while end >= beg:\n",
    "        mid = (beg+end)//2\n",
    "     \n",
    "        if check(A, K, M, mid):\n",
    "            \n",
    "            end = mid-1          \n",
    "            result = mid\n",
    "        else:\n",
    "            beg = mid + 1\n",
    "\n",
    "    return result"
   ]
  },
  {
   "cell_type": "code",
   "execution_count": 9,
   "id": "charitable-currency",
   "metadata": {},
   "outputs": [
    {
     "name": "stdout",
     "output_type": "stream",
     "text": [
      "6\n"
     ]
    }
   ],
   "source": [
    "A=[2,1,5,1,2,2,2]\n",
    "K=3\n",
    "M=5\n",
    "print(solution(K,M,A))"
   ]
  },
  {
   "cell_type": "markdown",
   "id": "sporting-saint",
   "metadata": {},
   "source": [
    "# NailingPlanks\n",
    "\n",
    "You are given two non-empty arrays A and B consisting of N integers. These arrays represent N planks. More precisely, A[K] is the start and B[K] the end of the K−th plank.\n",
    "\n",
    "Next, you are given a non-empty array C consisting of M integers. This array represents M nails. More precisely, C[I] is the position where you can hammer in the I−th nail.\n",
    "\n",
    "We say that a plank (A[K], B[K]) is nailed if there exists a nail C[I] such that A[K] ≤ C[I] ≤ B[K].\n",
    "\n",
    "The goal is to find the minimum number of nails that must be used until all the planks are nailed. In other words, you should find a value J such that all planks will be nailed after using only the first J nails. More precisely, for every plank (A[K], B[K]) such that 0 ≤ K < N, there should exist a nail C[I] such that I < J and A[K] ≤ C[I] ≤ B[K].\n",
    "\n",
    "For example, given arrays A, B such that:\n",
    "\n",
    "    A[0] = 1    B[0] = 4\n",
    "    A[1] = 4    B[1] = 5\n",
    "    A[2] = 5    B[2] = 9\n",
    "    A[3] = 8    B[3] = 10\n",
    "four planks are represented: [1, 4], [4, 5], [5, 9] and [8, 10].\n",
    "\n",
    "Given array C such that:\n",
    "\n",
    "    C[0] = 4\n",
    "    C[1] = 6\n",
    "    C[2] = 7\n",
    "    C[3] = 10\n",
    "    C[4] = 2\n",
    "if we use the following nails:\n",
    "\n",
    "0, then planks [1, 4] and [4, 5] will both be nailed.\n",
    "0, 1, then planks [1, 4], [4, 5] and [5, 9] will be nailed.\n",
    "0, 1, 2, then planks [1, 4], [4, 5] and [5, 9] will be nailed.\n",
    "0, 1, 2, 3, then all the planks will be nailed.\n",
    "Thus, four is the minimum number of nails that, used sequentially, allow all the planks to be nailed.\n",
    "\n",
    "Write a function:\n",
    "\n",
    "def solution(A, B, C)\n",
    "\n",
    "that, given two non-empty arrays A and B consisting of N integers and a non-empty array C consisting of M integers, returns the minimum number of nails that, used sequentially, allow all the planks to be nailed.\n",
    "\n",
    "If it is not possible to nail all the planks, the function should return −1.\n",
    "\n",
    "For example, given arrays A, B, C such that:\n",
    "\n",
    "    A[0] = 1    B[0] = 4\n",
    "    A[1] = 4    B[1] = 5\n",
    "    A[2] = 5    B[2] = 9\n",
    "    A[3] = 8    B[3] = 10\n",
    "\n",
    "    C[0] = 4\n",
    "    C[1] = 6\n",
    "    C[2] = 7\n",
    "    C[3] = 10\n",
    "    C[4] = 2\n",
    "the function should return 4, as explained above.\n",
    "\n",
    "Write an efficient algorithm for the following assumptions:\n",
    "\n",
    "N and M are integers within the range [1..30,000];\n",
    "each element of arrays A, B, C is an integer within the range [1..2*M];\n",
    "A[K] ≤ B[K]."
   ]
  },
  {
   "cell_type": "code",
   "execution_count": 4,
   "id": "indirect-tactics",
   "metadata": {},
   "outputs": [],
   "source": [
    "def check(A, B, C, candidate):\n",
    "\n",
    "    nails = [0] * 2*(len(C)+1)\n",
    "\n",
    "    for index in range(0, candidate):\n",
    "        nails[C[index]] += 1\n",
    "\n",
    "    for index in range(1, len(nails)):\n",
    "        nails[index] += nails[index-1]\n",
    "\n",
    "    for index in range(len(A)):\n",
    "        if (nails[B[index]] - nails[A[index]-1]) == 0:\n",
    "\n",
    "            return False\n",
    "\n",
    "    return True\n",
    "\n",
    "\n",
    "def solution(A, B, C):\n",
    "    m = len(C)\n",
    "    beg = 0\n",
    "    end = m\n",
    "\n",
    "    result = -1\n",
    "    while end >= beg:\n",
    "        mid = (beg+end)//2\n",
    "        if check(A, B, C, mid):\n",
    "            end = mid - 1\n",
    "            result = mid\n",
    "        else:\n",
    "            beg = mid+1\n",
    "\n",
    "    return result"
   ]
  },
  {
   "cell_type": "code",
   "execution_count": 5,
   "id": "yellow-examination",
   "metadata": {},
   "outputs": [
    {
     "name": "stdout",
     "output_type": "stream",
     "text": [
      "4\n"
     ]
    }
   ],
   "source": [
    "A=[1,4,5,8]\n",
    "B=[4,5,9,10]\n",
    "C=[4,6,7,10,2]\n",
    "print(solution(A,B,C))"
   ]
  },
  {
   "cell_type": "code",
   "execution_count": null,
   "id": "engaged-struggle",
   "metadata": {},
   "outputs": [],
   "source": []
  }
 ],
 "metadata": {
  "kernelspec": {
   "display_name": "Python 3",
   "language": "python",
   "name": "python3"
  },
  "language_info": {
   "codemirror_mode": {
    "name": "ipython",
    "version": 3
   },
   "file_extension": ".py",
   "mimetype": "text/x-python",
   "name": "python",
   "nbconvert_exporter": "python",
   "pygments_lexer": "ipython3",
   "version": "3.8.5"
  },
  "latex_envs": {
   "LaTeX_envs_menu_present": true,
   "autoclose": false,
   "autocomplete": true,
   "bibliofile": "biblio.bib",
   "cite_by": "apalike",
   "current_citInitial": 1,
   "eqLabelWithNumbers": true,
   "eqNumInitial": 1,
   "hotkeys": {
    "equation": "Ctrl-E",
    "itemize": "Ctrl-I"
   },
   "labels_anchors": false,
   "latex_user_defs": false,
   "report_style_numbering": false,
   "user_envs_cfg": false
  },
  "toc": {
   "base_numbering": 1,
   "nav_menu": {},
   "number_sections": false,
   "sideBar": true,
   "skip_h1_title": false,
   "title_cell": "Table of Contents",
   "title_sidebar": "Contents",
   "toc_cell": false,
   "toc_position": {},
   "toc_section_display": true,
   "toc_window_display": false
  },
  "varInspector": {
   "cols": {
    "lenName": 16,
    "lenType": 16,
    "lenVar": 40
   },
   "kernels_config": {
    "python": {
     "delete_cmd_postfix": "",
     "delete_cmd_prefix": "del ",
     "library": "var_list.py",
     "varRefreshCmd": "print(var_dic_list())"
    },
    "r": {
     "delete_cmd_postfix": ") ",
     "delete_cmd_prefix": "rm(",
     "library": "var_list.r",
     "varRefreshCmd": "cat(var_dic_list()) "
    }
   },
   "types_to_exclude": [
    "module",
    "function",
    "builtin_function_or_method",
    "instance",
    "_Feature"
   ],
   "window_display": false
  }
 },
 "nbformat": 4,
 "nbformat_minor": 5
}
