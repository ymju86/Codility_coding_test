{
 "cells": [
  {
   "cell_type": "markdown",
   "id": "inclusive-jacksonville",
   "metadata": {},
   "source": [
    "# 8 Leader"
   ]
  },
  {
   "cell_type": "markdown",
   "id": "working-reading",
   "metadata": {},
   "source": [
    "# Dominator\n",
    "\n",
    "An array A consisting of N integers is given. The dominator of array A is the value that occurs in more than half of the elements of A.\n",
    "\n",
    "For example, consider array A such that\n",
    "\n",
    " A[0] = 3    A[1] = 4    A[2] =  3\n",
    " A[3] = 2    A[4] = 3    A[5] = -1\n",
    " A[6] = 3    A[7] = 3\n",
    "The dominator of A is 3 because it occurs in 5 out of 8 elements of A (namely in those with indices 0, 2, 4, 6 and 7) and 5 is more than a half of 8.\n",
    "\n",
    "Write a function\n",
    "\n",
    "def solution(A)\n",
    "\n",
    "that, given an array A consisting of N integers, returns index of any element of array A in which the dominator of A occurs. The function should return −1 if array A does not have a dominator.\n",
    "\n",
    "For example, given array A such that\n",
    "\n",
    " A[0] = 3    A[1] = 4    A[2] =  3\n",
    " A[3] = 2    A[4] = 3    A[5] = -1\n",
    " A[6] = 3    A[7] = 3\n",
    "the function may return 0, 2, 4, 6 or 7, as explained above.\n",
    "\n",
    "Write an efficient algorithm for the following assumptions:\n",
    "\n",
    "N is an integer within the range [0..100,000];\n",
    "each element of array A is an integer within the range [−2,147,483,648..2,147,483,647]."
   ]
  },
  {
   "cell_type": "code",
   "execution_count": 1,
   "id": "diagnostic-constraint",
   "metadata": {},
   "outputs": [],
   "source": [
    "def solution(A):\n",
    "    \n",
    "    stack = []\n",
    "    \n",
    "    for x in A:\n",
    "        if len(stack) > 0 and x != stack[-1]:\n",
    "            stack.pop()\n",
    "        else:\n",
    "            stack.append(x)\n",
    "\n",
    "    if len(stack) == 0:\n",
    "        return -1\n",
    "    \n",
    "    candidate = stack[0]\n",
    "    total = 0\n",
    "\n",
    "    for x in A:\n",
    "        if x == candidate:\n",
    "            total += 1\n",
    "            \n",
    "    if total > len(A)/2:\n",
    "        return A.index(candidate)\n",
    "    else:\n",
    "        return -1"
   ]
  },
  {
   "cell_type": "code",
   "execution_count": null,
   "id": "intermediate-harbor",
   "metadata": {},
   "outputs": [],
   "source": []
  },
  {
   "cell_type": "markdown",
   "id": "southern-pressing",
   "metadata": {},
   "source": [
    "# EquiLeader\n",
    "\n",
    "A non-empty array A consisting of N integers is given.\n",
    "\n",
    "The leader of this array is the value that occurs in more than half of the elements of A.\n",
    "\n",
    "An equi leader is an index S such that 0 ≤ S < N − 1 and two sequences A[0], A[1], ..., A[S] and A[S + 1], A[S + 2], ..., A[N − 1] have leaders of the same value.\n",
    "\n",
    "For example, given array A such that:\n",
    "\n",
    "    A[0] = 4\n",
    "    A[1] = 3\n",
    "    A[2] = 4\n",
    "    A[3] = 4\n",
    "    A[4] = 4\n",
    "    A[5] = 2\n",
    "we can find two equi leaders:\n",
    "\n",
    "0, because sequences: (4) and (3, 4, 4, 4, 2) have the same leader, whose value is 4.\n",
    "2, because sequences: (4, 3, 4) and (4, 4, 2) have the same leader, whose value is 4.\n",
    "The goal is to count the number of equi leaders.\n",
    "\n",
    "Write a function:\n",
    "\n",
    "def solution(A)\n",
    "\n",
    "that, given a non-empty array A consisting of N integers, returns the number of equi leaders.\n",
    "\n",
    "For example, given:\n",
    "\n",
    "    A[0] = 4\n",
    "    A[1] = 3\n",
    "    A[2] = 4\n",
    "    A[3] = 4\n",
    "    A[4] = 4\n",
    "    A[5] = 2\n",
    "the function should return 2, as explained above.\n",
    "\n",
    "Write an efficient algorithm for the following assumptions:\n",
    "\n",
    "N is an integer within the range [1..100,000];\n",
    "each element of array A is an integer within the range [−1,000,000,000..1,000,000,000]."
   ]
  },
  {
   "cell_type": "code",
   "execution_count": 3,
   "id": "particular-tribe",
   "metadata": {},
   "outputs": [],
   "source": [
    "def solution(A):\n",
    "\n",
    "    stack = []\n",
    "    counts = {}\n",
    "    n = len(A)\n",
    "    candidates = [None] * n\n",
    "    rev_candidates = [None] * n\n",
    "\n",
    "    for index in range(n):\n",
    "        count = 0\n",
    "        value = A[index]\n",
    "        if value in counts:\n",
    "            count = counts[value]\n",
    "\n",
    "        counts[value] = count + 1\n",
    "\n",
    "        if len(stack) > 0 and value != stack[-1]:\n",
    "            stack.pop()\n",
    "        else:\n",
    "            stack.append(value)\n",
    "\n",
    "        if len(stack) > 0:\n",
    "            candidates[index] = stack[-1]\n",
    "\n",
    "    stack = []\n",
    "    for index in range(n - 1, -1, -1):\n",
    "        if len(stack) > 0 and A[index] != stack[-1]:\n",
    "            stack.pop()\n",
    "        else:\n",
    "            stack.append(A[index])\n",
    "\n",
    "        if len(stack) > 0:\n",
    "            rev_candidates[index] = stack[-1]\n",
    "\n",
    "    result = 0\n",
    "    prefix_counts = {}\n",
    "    for index in range(n-1):\n",
    "\n",
    "        count = 0\n",
    "        value = A[index]\n",
    "        if value in prefix_counts:\n",
    "            count = prefix_counts[value]\n",
    "\n",
    "        prefix_counts[value] = count + 1\n",
    "\n",
    "        if candidates[index] is None:\n",
    "            continue\n",
    "        if candidates[index] != rev_candidates[index+1]:\n",
    "            continue\n",
    "\n",
    "        candidate = candidates[index]\n",
    "        if prefix_counts[candidate]*2 <= index + 1:\n",
    "            continue\n",
    "        if (counts[candidate] - prefix_counts[candidate])*2 <= n - index - 1:\n",
    "            continue\n",
    "\n",
    "        result += 1\n",
    "\n",
    "    return result"
   ]
  },
  {
   "cell_type": "code",
   "execution_count": 7,
   "id": "refined-chapel",
   "metadata": {},
   "outputs": [
    {
     "name": "stdout",
     "output_type": "stream",
     "text": [
      "0\n",
      "3\n",
      "0\n",
      "0\n",
      "2\n"
     ]
    }
   ],
   "source": [
    "print(solution([0,1,2,3,4,5]))\n",
    "print(solution([1,2,1,1,2,1]))\n",
    "print(solution([5,6,7,1,1,1,1,1,1,1,9,8,3]))\n",
    "print(solution(range(100)))\n",
    "print(solution([4,3,4,4,4,2]))"
   ]
  },
  {
   "cell_type": "code",
   "execution_count": null,
   "id": "bronze-houston",
   "metadata": {},
   "outputs": [],
   "source": []
  }
 ],
 "metadata": {
  "kernelspec": {
   "display_name": "Python 3",
   "language": "python",
   "name": "python3"
  },
  "language_info": {
   "codemirror_mode": {
    "name": "ipython",
    "version": 3
   },
   "file_extension": ".py",
   "mimetype": "text/x-python",
   "name": "python",
   "nbconvert_exporter": "python",
   "pygments_lexer": "ipython3",
   "version": "3.8.5"
  },
  "latex_envs": {
   "LaTeX_envs_menu_present": true,
   "autoclose": false,
   "autocomplete": true,
   "bibliofile": "biblio.bib",
   "cite_by": "apalike",
   "current_citInitial": 1,
   "eqLabelWithNumbers": true,
   "eqNumInitial": 1,
   "hotkeys": {
    "equation": "Ctrl-E",
    "itemize": "Ctrl-I"
   },
   "labels_anchors": false,
   "latex_user_defs": false,
   "report_style_numbering": false,
   "user_envs_cfg": false
  },
  "toc": {
   "base_numbering": 1,
   "nav_menu": {},
   "number_sections": false,
   "sideBar": true,
   "skip_h1_title": false,
   "title_cell": "Table of Contents",
   "title_sidebar": "Contents",
   "toc_cell": false,
   "toc_position": {},
   "toc_section_display": true,
   "toc_window_display": false
  },
  "varInspector": {
   "cols": {
    "lenName": 16,
    "lenType": 16,
    "lenVar": 40
   },
   "kernels_config": {
    "python": {
     "delete_cmd_postfix": "",
     "delete_cmd_prefix": "del ",
     "library": "var_list.py",
     "varRefreshCmd": "print(var_dic_list())"
    },
    "r": {
     "delete_cmd_postfix": ") ",
     "delete_cmd_prefix": "rm(",
     "library": "var_list.r",
     "varRefreshCmd": "cat(var_dic_list()) "
    }
   },
   "types_to_exclude": [
    "module",
    "function",
    "builtin_function_or_method",
    "instance",
    "_Feature"
   ],
   "window_display": false
  }
 },
 "nbformat": 4,
 "nbformat_minor": 5
}
