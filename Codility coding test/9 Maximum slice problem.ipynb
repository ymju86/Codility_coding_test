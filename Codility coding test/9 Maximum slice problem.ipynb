{
 "cells": [
  {
   "cell_type": "markdown",
   "id": "complex-failing",
   "metadata": {},
   "source": [
    "# 9 Maximum slice problem"
   ]
  },
  {
   "cell_type": "code",
   "execution_count": 8,
   "id": "italian-congo",
   "metadata": {},
   "outputs": [],
   "source": [
    "# Maximal slice — O(n)\n",
    "\n",
    "def golden_max_slice(A):\n",
    "    max_ending = max_slice = 0\n",
    "    for a in A:\n",
    "        max_ending = max(0, max_ending + a)\n",
    "        max_slice = max(max_slice, max_ending)\n",
    "    return max_slice"
   ]
  },
  {
   "cell_type": "markdown",
   "id": "trying-temple",
   "metadata": {},
   "source": [
    "# MaxDoubleSliceSum\n",
    "\n",
    "A non-empty array A consisting of N integers is given.\n",
    "\n",
    "A triplet (X, Y, Z), such that 0 ≤ X < Y < Z < N, is called a double slice.\n",
    "\n",
    "The sum of double slice (X, Y, Z) is the total of A[X + 1] + A[X + 2] + ... + A[Y − 1] + A[Y + 1] + A[Y + 2] + ... + A[Z − 1].\n",
    "\n",
    "For example, array A such that:\n",
    "\n",
    "    A[0] = 3\n",
    "    A[1] = 2\n",
    "    A[2] = 6\n",
    "    A[3] = -1\n",
    "    A[4] = 4\n",
    "    A[5] = 5\n",
    "    A[6] = -1\n",
    "    A[7] = 2\n",
    "contains the following example double slices:\n",
    "\n",
    "double slice (0, 3, 6), sum is 2 + 6 + 4 + 5 = 17,\n",
    "double slice (0, 3, 7), sum is 2 + 6 + 4 + 5 − 1 = 16,\n",
    "double slice (3, 4, 5), sum is 0.\n",
    "The goal is to find the maximal sum of any double slice.\n",
    "\n",
    "Write a function:\n",
    "\n",
    "def solution(A)\n",
    "\n",
    "that, given a non-empty array A consisting of N integers, returns the maximal sum of any double slice.\n",
    "\n",
    "For example, given:\n",
    "\n",
    "    A[0] = 3\n",
    "    A[1] = 2\n",
    "    A[2] = 6\n",
    "    A[3] = -1\n",
    "    A[4] = 4\n",
    "    A[5] = 5\n",
    "    A[6] = -1\n",
    "    A[7] = 2\n",
    "the function should return 17, because no double slice of array A has a sum of greater than 17.\n",
    "\n",
    "Write an efficient algorithm for the following assumptions:\n",
    "\n",
    "N is an integer within the range [3..100,000];\n",
    "each element of array A is an integer within the range [−10,000..10,000]."
   ]
  },
  {
   "cell_type": "code",
   "execution_count": 2,
   "id": "worthy-hearts",
   "metadata": {},
   "outputs": [],
   "source": [
    "def solution(A):\n",
    "    n = len(A)\n",
    "\n",
    "    max_endings = [0] * n\n",
    "    inverted_endings = [0] * n\n",
    "\n",
    "    max_ending = 0\n",
    "    for index in range(1, n):\n",
    "        x = A[index]\n",
    "        if x > max_ending + x:\n",
    "            max_ending = x\n",
    "        else:\n",
    "            max_ending = max_ending + x\n",
    "\n",
    "        max_endings[index] = max_ending\n",
    "\n",
    "    max_ending = 0\n",
    "    for index in range(1, n):\n",
    "        x = A[-1 - index]\n",
    "        if x > max_ending + x:\n",
    "            max_ending = x\n",
    "        else:\n",
    "            max_ending = max_ending + x\n",
    "\n",
    "        inverted_endings[-1 - index] = max_ending\n",
    "\n",
    "    max_slice = 0\n",
    "    for index in range(1, n-1):\n",
    "        left = max(max_endings[index - 1], 0)\n",
    "        right = max(0, inverted_endings[index + 1])\n",
    "        current_max = left + right\n",
    "        if current_max > max_slice:\n",
    "            max_slice = current_max\n",
    "    return max_slice"
   ]
  },
  {
   "cell_type": "code",
   "execution_count": 3,
   "id": "ethical-civilian",
   "metadata": {},
   "outputs": [
    {
     "name": "stdout",
     "output_type": "stream",
     "text": [
      "6\n",
      "17\n",
      "0\n",
      "1\n",
      "3\n",
      "499500\n"
     ]
    }
   ],
   "source": [
    "print(solution([3, 2, -6, 4, 0]))\n",
    "print (solution([3, 2, 6, -1, 4, 5, -1, 2]))\n",
    "print (solution([-3, -1, -2, -3, -4, -5]))\n",
    "print (solution(range(-3, 3)))\n",
    "print (solution(range(-4, 4)))\n",
    "print (solution(range(-1001, 1001)))"
   ]
  },
  {
   "cell_type": "markdown",
   "id": "challenging-kinase",
   "metadata": {},
   "source": [
    "# MaxProfit\n",
    "\n",
    "An array A consisting of N integers is given. It contains daily prices of a stock share for a period of N consecutive days. If a single share was bought on day P and sold on day Q, where 0 ≤ P ≤ Q < N, then the profit of such transaction is equal to A[Q] − A[P], provided that A[Q] ≥ A[P]. Otherwise, the transaction brings loss of A[P] − A[Q].\n",
    "\n",
    "For example, consider the following array A consisting of six elements such that:\n",
    "\n",
    "  A[0] = 23171\n",
    "  A[1] = 21011\n",
    "  A[2] = 21123\n",
    "  A[3] = 21366\n",
    "  A[4] = 21013\n",
    "  A[5] = 21367\n",
    "If a share was bought on day 0 and sold on day 2, a loss of 2048 would occur because A[2] − A[0] = 21123 − 23171 = −2048. If a share was bought on day 4 and sold on day 5, a profit of 354 would occur because A[5] − A[4] = 21367 − 21013 = 354. Maximum possible profit was 356. It would occur if a share was bought on day 1 and sold on day 5.\n",
    "\n",
    "Write a function,\n",
    "\n",
    "def solution(A)\n",
    "\n",
    "that, given an array A consisting of N integers containing daily prices of a stock share for a period of N consecutive days, returns the maximum possible profit from one transaction during this period. The function should return 0 if it was impossible to gain any profit.\n",
    "\n",
    "For example, given array A consisting of six elements such that:\n",
    "\n",
    "  A[0] = 23171\n",
    "  A[1] = 21011\n",
    "  A[2] = 21123\n",
    "  A[3] = 21366\n",
    "  A[4] = 21013\n",
    "  A[5] = 21367\n",
    "the function should return 356, as explained above.\n",
    "\n",
    "Write an efficient algorithm for the following assumptions:\n",
    "\n",
    "N is an integer within the range [0..400,000];\n",
    "each element of array A is an integer within the range [0..200,000]."
   ]
  },
  {
   "cell_type": "code",
   "execution_count": 4,
   "id": "mounted-central",
   "metadata": {},
   "outputs": [],
   "source": [
    "def solution(A):\n",
    "\n",
    "    min_value = 200001\n",
    "    result = 0\n",
    "    for element in A:\n",
    "        min_value = min(element, min_value)\n",
    "        if element - min_value > result:\n",
    "            result = element - min_value\n",
    "\n",
    "    return result"
   ]
  },
  {
   "cell_type": "code",
   "execution_count": 5,
   "id": "responsible-anxiety",
   "metadata": {},
   "outputs": [
    {
     "name": "stdout",
     "output_type": "stream",
     "text": [
      "356\n"
     ]
    }
   ],
   "source": [
    "print (solution([23171, 21011, 21123, 21366, 21013, 21367]))"
   ]
  },
  {
   "cell_type": "markdown",
   "id": "recovered-neighbor",
   "metadata": {},
   "source": [
    "# MaxSliceSum\n",
    "\n",
    "A non-empty array A consisting of N integers is given. A pair of integers (P, Q), such that 0 ≤ P ≤ Q < N, is called a slice of array A. The sum of a slice (P, Q) is the total of A[P] + A[P+1] + ... + A[Q].\n",
    "\n",
    "Write a function:\n",
    "\n",
    "def solution(A)\n",
    "\n",
    "that, given an array A consisting of N integers, returns the maximum sum of any slice of A.\n",
    "\n",
    "For example, given array A such that:\n",
    "\n",
    "A[0] = 3  A[1] = 2  A[2] = -6\n",
    "A[3] = 4  A[4] = 0\n",
    "the function should return 5 because:\n",
    "\n",
    "(3, 4) is a slice of A that has sum 4,\n",
    "(2, 2) is a slice of A that has sum −6,\n",
    "(0, 1) is a slice of A that has sum 5,\n",
    "no other slice of A has sum greater than (0, 1).\n",
    "Write an efficient algorithm for the following assumptions:\n",
    "\n",
    "N is an integer within the range [1..1,000,000];\n",
    "each element of array A is an integer within the range [−1,000,000..1,000,000];\n",
    "the result will be an integer within the range [−2,147,483,648..2,147,483,647]."
   ]
  },
  {
   "cell_type": "code",
   "execution_count": 6,
   "id": "stylish-store",
   "metadata": {},
   "outputs": [],
   "source": [
    "def solution(A):\n",
    "\n",
    "    max_slice = -1000001\n",
    "    max_ending = -1000001\n",
    "\n",
    "    for x in A:\n",
    "        max_ending = max(x, max_ending + x)\n",
    "        max_slice = max(max_slice, max_ending)\n",
    "\n",
    "    return max_slice"
   ]
  },
  {
   "cell_type": "code",
   "execution_count": 7,
   "id": "terminal-providence",
   "metadata": {},
   "outputs": [
    {
     "name": "stdout",
     "output_type": "stream",
     "text": [
      "5\n"
     ]
    }
   ],
   "source": [
    "print (solution([3, 2, -6, 4, 0]))"
   ]
  },
  {
   "cell_type": "code",
   "execution_count": null,
   "id": "judicial-thriller",
   "metadata": {},
   "outputs": [],
   "source": []
  }
 ],
 "metadata": {
  "kernelspec": {
   "display_name": "Python 3",
   "language": "python",
   "name": "python3"
  },
  "language_info": {
   "codemirror_mode": {
    "name": "ipython",
    "version": 3
   },
   "file_extension": ".py",
   "mimetype": "text/x-python",
   "name": "python",
   "nbconvert_exporter": "python",
   "pygments_lexer": "ipython3",
   "version": "3.8.5"
  },
  "latex_envs": {
   "LaTeX_envs_menu_present": true,
   "autoclose": false,
   "autocomplete": true,
   "bibliofile": "biblio.bib",
   "cite_by": "apalike",
   "current_citInitial": 1,
   "eqLabelWithNumbers": true,
   "eqNumInitial": 1,
   "hotkeys": {
    "equation": "Ctrl-E",
    "itemize": "Ctrl-I"
   },
   "labels_anchors": false,
   "latex_user_defs": false,
   "report_style_numbering": false,
   "user_envs_cfg": false
  },
  "toc": {
   "base_numbering": 1,
   "nav_menu": {},
   "number_sections": false,
   "sideBar": true,
   "skip_h1_title": false,
   "title_cell": "Table of Contents",
   "title_sidebar": "Contents",
   "toc_cell": false,
   "toc_position": {},
   "toc_section_display": true,
   "toc_window_display": false
  },
  "varInspector": {
   "cols": {
    "lenName": 16,
    "lenType": 16,
    "lenVar": 40
   },
   "kernels_config": {
    "python": {
     "delete_cmd_postfix": "",
     "delete_cmd_prefix": "del ",
     "library": "var_list.py",
     "varRefreshCmd": "print(var_dic_list())"
    },
    "r": {
     "delete_cmd_postfix": ") ",
     "delete_cmd_prefix": "rm(",
     "library": "var_list.r",
     "varRefreshCmd": "cat(var_dic_list()) "
    }
   },
   "types_to_exclude": [
    "module",
    "function",
    "builtin_function_or_method",
    "instance",
    "_Feature"
   ],
   "window_display": false
  }
 },
 "nbformat": 4,
 "nbformat_minor": 5
}
