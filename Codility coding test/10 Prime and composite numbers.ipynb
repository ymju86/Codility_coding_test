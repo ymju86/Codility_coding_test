{
 "cells": [
  {
   "cell_type": "markdown",
   "id": "reasonable-cylinder",
   "metadata": {},
   "source": [
    "# 10 Prime and composite numbers"
   ]
  },
  {
   "cell_type": "markdown",
   "id": "balanced-walnut",
   "metadata": {},
   "source": [
    "# CountFactors\n",
    "\n",
    "A positive integer D is a factor of a positive integer N if there exists an integer M such that N = D * M.\n",
    "\n",
    "For example, 6 is a factor of 24, because M = 4 satisfies the above condition (24 = 6 * 4).\n",
    "\n",
    "Write a function:\n",
    "\n",
    "def solution(N)\n",
    "\n",
    "that, given a positive integer N, returns the number of its factors.\n",
    "\n",
    "For example, given N = 24, the function should return 8, because 24 has 8 factors, namely 1, 2, 3, 4, 6, 8, 12, 24. There are no other factors of 24.\n",
    "\n",
    "Write an efficient algorithm for the following assumptions:\n",
    "\n",
    "N is an integer within the range [1..2,147,483,647]."
   ]
  },
  {
   "cell_type": "code",
   "execution_count": 1,
   "id": "fossil-france",
   "metadata": {},
   "outputs": [],
   "source": [
    "from math import sqrt\n",
    "\n",
    "def solution(N):\n",
    "    result = 0\n",
    "    for index in range(1, int(sqrt(N))+ 1):\n",
    "        if N % index == 0:\n",
    "            result += 1\n",
    "            if N/index != index:\n",
    "                result += 1\n",
    "\n",
    "    return result"
   ]
  },
  {
   "cell_type": "code",
   "execution_count": 2,
   "id": "capable-acquisition",
   "metadata": {},
   "outputs": [
    {
     "name": "stdout",
     "output_type": "stream",
     "text": [
      "8\n"
     ]
    }
   ],
   "source": [
    "print(solution(24))"
   ]
  },
  {
   "cell_type": "code",
   "execution_count": 3,
   "id": "encouraging-breathing",
   "metadata": {},
   "outputs": [],
   "source": [
    "def divisors(n):\n",
    "    i = 1\n",
    "    result = 0\n",
    "    while (i * i < n):\n",
    "        if (n % i == 0):\n",
    "            result += 2\n",
    "        i += 1\n",
    "    if (i * i == n):\n",
    "        result += 1\n",
    "    return result"
   ]
  },
  {
   "cell_type": "code",
   "execution_count": 4,
   "id": "double-excess",
   "metadata": {},
   "outputs": [
    {
     "name": "stdout",
     "output_type": "stream",
     "text": [
      "8\n"
     ]
    }
   ],
   "source": [
    "print(divisors(24))"
   ]
  },
  {
   "cell_type": "markdown",
   "id": "bored-spyware",
   "metadata": {},
   "source": [
    "# Flags\n",
    "\n",
    "A non-empty array A consisting of N integers is given.\n",
    "\n",
    "A peak is an array element which is larger than its neighbours. More precisely, it is an index P such that 0 < P < N − 1 and A[P − 1] < A[P] > A[P + 1].\n",
    "\n",
    "For example, the following array A:\n",
    "\n",
    "    A[0] = 1\n",
    "    A[1] = 5\n",
    "    A[2] = 3\n",
    "    A[3] = 4\n",
    "    A[4] = 3\n",
    "    A[5] = 4\n",
    "    A[6] = 1\n",
    "    A[7] = 2\n",
    "    A[8] = 3\n",
    "    A[9] = 4\n",
    "    A[10] = 6\n",
    "    A[11] = 2\n",
    "has exactly four peaks: elements 1, 3, 5 and 10.\n",
    "\n",
    "You are going on a trip to a range of mountains whose relative heights are represented by array A, as shown in a figure below. You have to choose how many flags you should take with you. The goal is to set the maximum number of flags on the peaks, according to certain rules.\n",
    "\n",
    "\n",
    "\n",
    "Flags can only be set on peaks. What's more, if you take K flags, then the distance between any two flags should be greater than or equal to K. The distance between indices P and Q is the absolute value |P − Q|.\n",
    "\n",
    "For example, given the mountain range represented by array A, above, with N = 12, if you take:\n",
    "\n",
    "two flags, you can set them on peaks 1 and 5;\n",
    "three flags, you can set them on peaks 1, 5 and 10;\n",
    "four flags, you can set only three flags, on peaks 1, 5 and 10.\n",
    "You can therefore set a maximum of three flags in this case.\n",
    "\n",
    "Write a function:\n",
    "\n",
    "def solution(A)\n",
    "\n",
    "that, given a non-empty array A of N integers, returns the maximum number of flags that can be set on the peaks of the array.\n",
    "\n",
    "For example, the following array A:\n",
    "\n",
    "    A[0] = 1\n",
    "    A[1] = 5\n",
    "    A[2] = 3\n",
    "    A[3] = 4\n",
    "    A[4] = 3\n",
    "    A[5] = 4\n",
    "    A[6] = 1\n",
    "    A[7] = 2\n",
    "    A[8] = 3\n",
    "    A[9] = 4\n",
    "    A[10] = 6\n",
    "    A[11] = 2\n",
    "the function should return 3, as explained above.\n",
    "\n",
    "Write an efficient algorithm for the following assumptions:\n",
    "\n",
    "N is an integer within the range [1..400,000];\n",
    "each element of array A is an integer within the range [0..1,000,000,000]."
   ]
  },
  {
   "cell_type": "code",
   "execution_count": 5,
   "id": "likely-mobility",
   "metadata": {},
   "outputs": [],
   "source": [
    "def solution(A):\n",
    "\n",
    "    n = len(A)\n",
    "    if n < 3:\n",
    "        return 0\n",
    "\n",
    "    peaks = []\n",
    "\n",
    "    for x in range(1,n-1):\n",
    "        if A[x] > A[x-1] and A[x] > A[x+1]:\n",
    "            peaks.append(x)\n",
    "\n",
    "\n",
    "    result = 0\n",
    "    for x in range(1,len(peaks)+1):\n",
    "\n",
    "        if x*(x-1) > n:\n",
    "            break\n",
    "\n",
    "        flags_left = x\n",
    "        last_peak = - 1 - x\n",
    "        for peak in peaks:\n",
    "            if x > peak - last_peak:\n",
    "                continue\n",
    "\n",
    "            last_peak = peak\n",
    "            flags_left -=1\n",
    "            if flags_left == 0:\n",
    "                result = x\n",
    "                break\n",
    "\n",
    "    return result"
   ]
  },
  {
   "cell_type": "code",
   "execution_count": 6,
   "id": "significant-workplace",
   "metadata": {},
   "outputs": [
    {
     "name": "stdout",
     "output_type": "stream",
     "text": [
      "3\n"
     ]
    }
   ],
   "source": [
    "A=[1,5,3,4,3,4,1,2,3,4,6,2]\n",
    "print(solution(A))"
   ]
  },
  {
   "cell_type": "markdown",
   "id": "developing-eating",
   "metadata": {},
   "source": [
    "# MinPerimeterRectangle\n",
    "\n",
    "An integer N is given, representing the area of some rectangle.\n",
    "\n",
    "The area of a rectangle whose sides are of length A and B is A * B, and the perimeter is 2 * (A + B).\n",
    "\n",
    "The goal is to find the minimal perimeter of any rectangle whose area equals N. The sides of this rectangle should be only integers.\n",
    "\n",
    "For example, given integer N = 30, rectangles of area 30 are:\n",
    "\n",
    "(1, 30), with a perimeter of 62,\n",
    "(2, 15), with a perimeter of 34,\n",
    "(3, 10), with a perimeter of 26,\n",
    "(5, 6), with a perimeter of 22.\n",
    "Write a function:\n",
    "\n",
    "def solution(N)\n",
    "\n",
    "that, given an integer N, returns the minimal perimeter of any rectangle whose area is exactly equal to N.\n",
    "\n",
    "For example, given an integer N = 30, the function should return 22, as explained above.\n",
    "\n",
    "Write an efficient algorithm for the following assumptions:\n",
    "\n",
    "N is an integer within the range [1..1,000,000,000]."
   ]
  },
  {
   "cell_type": "code",
   "execution_count": 8,
   "id": "personalized-square",
   "metadata": {},
   "outputs": [],
   "source": [
    "from math import sqrt\n",
    "\n",
    "def solution(N):\n",
    "\n",
    "    min_perimiter = (N + 1)* 2\n",
    "\n",
    "    for x in range(1, int(sqrt(N))+1):\n",
    "        if N % x == 0:\n",
    "            solution = 2 * (x + (N/x))\n",
    "            if solution < min_perimiter:\n",
    "                min_perimiter = solution\n",
    "\n",
    "    return min_perimiter"
   ]
  },
  {
   "cell_type": "code",
   "execution_count": 9,
   "id": "enhanced-cabin",
   "metadata": {},
   "outputs": [
    {
     "name": "stdout",
     "output_type": "stream",
     "text": [
      "4\n",
      "22.0\n",
      "30972904\n"
     ]
    }
   ],
   "source": [
    "print (solution(1))\n",
    "print (solution(30))\n",
    "print (solution(15486451))"
   ]
  },
  {
   "cell_type": "markdown",
   "id": "vietnamese-investor",
   "metadata": {},
   "source": [
    "# Peaks\n",
    "\n",
    "A non-empty array A consisting of N integers is given.\n",
    "\n",
    "A peak is an array element which is larger than its neighbors. More precisely, it is an index P such that 0 < P < N − 1,  A[P − 1] < A[P] and A[P] > A[P + 1].\n",
    "\n",
    "For example, the following array A:\n",
    "\n",
    "    A[0] = 1\n",
    "    A[1] = 2\n",
    "    A[2] = 3\n",
    "    A[3] = 4\n",
    "    A[4] = 3\n",
    "    A[5] = 4\n",
    "    A[6] = 1\n",
    "    A[7] = 2\n",
    "    A[8] = 3\n",
    "    A[9] = 4\n",
    "    A[10] = 6\n",
    "    A[11] = 2\n",
    "has exactly three peaks: 3, 5, 10.\n",
    "\n",
    "We want to divide this array into blocks containing the same number of elements. More precisely, we want to choose a number K that will yield the following blocks:\n",
    "\n",
    "A[0], A[1], ..., A[K − 1],\n",
    "A[K], A[K + 1], ..., A[2K − 1],\n",
    "...\n",
    "A[N − K], A[N − K + 1], ..., A[N − 1].\n",
    "What's more, every block should contain at least one peak. Notice that extreme elements of the blocks (for example A[K − 1] or A[K]) can also be peaks, but only if they have both neighbors (including one in an adjacent blocks).\n",
    "\n",
    "The goal is to find the maximum number of blocks into which the array A can be divided.\n",
    "\n",
    "Array A can be divided into blocks as follows:\n",
    "\n",
    "one block (1, 2, 3, 4, 3, 4, 1, 2, 3, 4, 6, 2). This block contains three peaks.\n",
    "two blocks (1, 2, 3, 4, 3, 4) and (1, 2, 3, 4, 6, 2). Every block has a peak.\n",
    "three blocks (1, 2, 3, 4), (3, 4, 1, 2), (3, 4, 6, 2). Every block has a peak. Notice in particular that the first block (1, 2, 3, 4) has a peak at A[3], because A[2] < A[3] > A[4], even though A[4] is in the adjacent block.\n",
    "However, array A cannot be divided into four blocks, (1, 2, 3), (4, 3, 4), (1, 2, 3) and (4, 6, 2), because the (1, 2, 3) blocks do not contain a peak. Notice in particular that the (4, 3, 4) block contains two peaks: A[3] and A[5].\n",
    "\n",
    "The maximum number of blocks that array A can be divided into is three.\n",
    "\n",
    "Write a function:\n",
    "\n",
    "def solution(A)\n",
    "\n",
    "that, given a non-empty array A consisting of N integers, returns the maximum number of blocks into which A can be divided.\n",
    "\n",
    "If A cannot be divided into some number of blocks, the function should return 0.\n",
    "\n",
    "For example, given:\n",
    "\n",
    "    A[0] = 1\n",
    "    A[1] = 2\n",
    "    A[2] = 3\n",
    "    A[3] = 4\n",
    "    A[4] = 3\n",
    "    A[5] = 4\n",
    "    A[6] = 1\n",
    "    A[7] = 2\n",
    "    A[8] = 3\n",
    "    A[9] = 4\n",
    "    A[10] = 6\n",
    "    A[11] = 2\n",
    "the function should return 3, as explained above.\n",
    "\n",
    "Write an efficient algorithm for the following assumptions:\n",
    "\n",
    "N is an integer within the range [1..100,000];\n",
    "each element of array A is an integer within the range [0..1,000,000,000]."
   ]
  },
  {
   "cell_type": "code",
   "execution_count": 13,
   "id": "decimal-priority",
   "metadata": {},
   "outputs": [],
   "source": [
    "def solution(A):\n",
    "\n",
    "    n = len(A)\n",
    "    if n == 1:\n",
    "        return 0\n",
    "\n",
    "    peaks = [0]*n\n",
    "\n",
    "    for index in range(1, n-1):\n",
    "        peaks[index] = peaks[index -1]\n",
    "        if A[index] > A[index-1] and A[index] > A[index+1]:\n",
    "            peaks[index] += 1\n",
    "\n",
    "    peaks[-1] = peaks[-2]\n",
    "\n",
    "    for x in range(2, n//2+1):\n",
    "        if n%x!= 0:\n",
    "            continue\n",
    "        last = 0\n",
    "        for current in range(1,n//x + 1):\n",
    "            if peaks[current * x - 1] == last:\n",
    "                break\n",
    "\n",
    "            if current * x == n:\n",
    "                return n//x\n",
    "\n",
    "            last = peaks[current*x -1]\n",
    "    if peaks[-1] > 0:\n",
    "        return 1\n",
    "\n",
    "    return 0"
   ]
  },
  {
   "cell_type": "code",
   "execution_count": 14,
   "id": "worthy-swiss",
   "metadata": {},
   "outputs": [
    {
     "name": "stdout",
     "output_type": "stream",
     "text": [
      "3\n"
     ]
    }
   ],
   "source": [
    "A=[1,2,3,4,3,4,1,2,3,4,6,2]\n",
    "print(solution(A))"
   ]
  },
  {
   "cell_type": "code",
   "execution_count": null,
   "id": "partial-bronze",
   "metadata": {},
   "outputs": [],
   "source": []
  }
 ],
 "metadata": {
  "kernelspec": {
   "display_name": "Python 3",
   "language": "python",
   "name": "python3"
  },
  "language_info": {
   "codemirror_mode": {
    "name": "ipython",
    "version": 3
   },
   "file_extension": ".py",
   "mimetype": "text/x-python",
   "name": "python",
   "nbconvert_exporter": "python",
   "pygments_lexer": "ipython3",
   "version": "3.8.5"
  },
  "latex_envs": {
   "LaTeX_envs_menu_present": true,
   "autoclose": false,
   "autocomplete": true,
   "bibliofile": "biblio.bib",
   "cite_by": "apalike",
   "current_citInitial": 1,
   "eqLabelWithNumbers": true,
   "eqNumInitial": 1,
   "hotkeys": {
    "equation": "Ctrl-E",
    "itemize": "Ctrl-I"
   },
   "labels_anchors": false,
   "latex_user_defs": false,
   "report_style_numbering": false,
   "user_envs_cfg": false
  },
  "toc": {
   "base_numbering": 1,
   "nav_menu": {},
   "number_sections": false,
   "sideBar": true,
   "skip_h1_title": false,
   "title_cell": "Table of Contents",
   "title_sidebar": "Contents",
   "toc_cell": false,
   "toc_position": {},
   "toc_section_display": true,
   "toc_window_display": false
  },
  "varInspector": {
   "cols": {
    "lenName": 16,
    "lenType": 16,
    "lenVar": 40
   },
   "kernels_config": {
    "python": {
     "delete_cmd_postfix": "",
     "delete_cmd_prefix": "del ",
     "library": "var_list.py",
     "varRefreshCmd": "print(var_dic_list())"
    },
    "r": {
     "delete_cmd_postfix": ") ",
     "delete_cmd_prefix": "rm(",
     "library": "var_list.r",
     "varRefreshCmd": "cat(var_dic_list()) "
    }
   },
   "types_to_exclude": [
    "module",
    "function",
    "builtin_function_or_method",
    "instance",
    "_Feature"
   ],
   "window_display": false
  }
 },
 "nbformat": 4,
 "nbformat_minor": 5
}
