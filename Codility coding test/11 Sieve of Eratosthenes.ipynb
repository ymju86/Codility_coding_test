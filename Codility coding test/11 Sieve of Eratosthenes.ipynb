{
 "cells": [
  {
   "cell_type": "markdown",
   "id": "labeled-reserve",
   "metadata": {},
   "source": [
    "# 11 Sieve of Eratosthenes"
   ]
  },
  {
   "cell_type": "code",
   "execution_count": 9,
   "id": "magnetic-cooperation",
   "metadata": {},
   "outputs": [],
   "source": [
    "# Sieve of Eratosthenes\n",
    "\n",
    "def sieve(n):\n",
    "    sieve = [True] * (n + 1)\n",
    "    sieve[0] = sieve[1] = False\n",
    "    i = 2\n",
    "    while (i * i <= n):\n",
    "        if (sieve[i]):\n",
    "            k = i * i\n",
    "            while (k <= n):\n",
    "                sieve[k] = False\n",
    "                k += i\n",
    "        i += 1\n",
    "    return sieve"
   ]
  },
  {
   "cell_type": "code",
   "execution_count": 10,
   "id": "divided-shore",
   "metadata": {},
   "outputs": [],
   "source": [
    "# Preparing the array F for factorization\n",
    "\n",
    "def arrayF(n):\n",
    "    F = [0] * (n + 1)\n",
    "    i = 2\n",
    "    while (i * i <= n):\n",
    "        if (F[i] == 0):\n",
    "            k = i * i\n",
    "            while (k <= n):\n",
    "                if (F[k] == 0):\n",
    "                    F[k] = i;\n",
    "                k += i\n",
    "        i += 1\n",
    "    return F"
   ]
  },
  {
   "cell_type": "code",
   "execution_count": 14,
   "id": "emerging-anniversary",
   "metadata": {},
   "outputs": [],
   "source": [
    "# Factorization of x — O(log x)\n",
    "\n",
    "def factorization(x):\n",
    "    F=arrayF(x)\n",
    "    primeFactors = []\n",
    "    while (F[x] > 0):\n",
    "        primeFactors += [F[x]]\n",
    "        x //= F[x]\n",
    "    primeFactors += [x]\n",
    "    return primeFactors"
   ]
  },
  {
   "cell_type": "code",
   "execution_count": 15,
   "id": "powered-uruguay",
   "metadata": {},
   "outputs": [
    {
     "name": "stdout",
     "output_type": "stream",
     "text": [
      "[2, 2, 5]\n"
     ]
    }
   ],
   "source": [
    "print(factorization(20))"
   ]
  },
  {
   "cell_type": "markdown",
   "id": "greek-contents",
   "metadata": {},
   "source": [
    "# CountNonDivisible\n",
    "\n",
    "You are given an array A consisting of N integers.\n",
    "\n",
    "For each number A[i] such that 0 ≤ i < N, we want to count the number of elements of the array that are not the divisors of A[i]. We say that these elements are non-divisors.\n",
    "\n",
    "For example, consider integer N = 5 and array A such that:\n",
    "\n",
    "    A[0] = 3\n",
    "    A[1] = 1\n",
    "    A[2] = 2\n",
    "    A[3] = 3\n",
    "    A[4] = 6\n",
    "For the following elements:\n",
    "\n",
    "A[0] = 3, the non-divisors are: 2, 6,\n",
    "A[1] = 1, the non-divisors are: 3, 2, 3, 6,\n",
    "A[2] = 2, the non-divisors are: 3, 3, 6,\n",
    "A[3] = 3, the non-divisors are: 2, 6,\n",
    "A[4] = 6, there aren't any non-divisors.\n",
    "Write a function:\n",
    "\n",
    "def solution(A)\n",
    "\n",
    "that, given an array A consisting of N integers, returns a sequence of integers representing the amount of non-divisors.\n",
    "\n",
    "Result array should be returned as an array of integers.\n",
    "\n",
    "For example, given:\n",
    "\n",
    "    A[0] = 3\n",
    "    A[1] = 1\n",
    "    A[2] = 2\n",
    "    A[3] = 3\n",
    "    A[4] = 6\n",
    "the function should return [2, 4, 3, 2, 0], as explained above.\n",
    "\n",
    "Write an efficient algorithm for the following assumptions:\n",
    "\n",
    "N is an integer within the range [1..50,000];\n",
    "each element of array A is an integer within the range [1..2 * N]."
   ]
  },
  {
   "cell_type": "code",
   "execution_count": 6,
   "id": "gothic-bookmark",
   "metadata": {},
   "outputs": [],
   "source": [
    "def solution(A):\n",
    "\n",
    "    N = len(A)\n",
    "    d = {}\n",
    "    sol = [0]*N\n",
    "\n",
    "    for i in range(N):\n",
    "        if i in d:\n",
    "            sol[i] = d[i]\n",
    "        else:\n",
    "            for j in range(N):\n",
    "                if i!=j and A[i] % A[j] != 0:\n",
    "                    sol[i] += 1\n",
    "            d[i] = sol[i]\n",
    "    return sol"
   ]
  },
  {
   "cell_type": "code",
   "execution_count": 7,
   "id": "designing-davis",
   "metadata": {},
   "outputs": [
    {
     "name": "stdout",
     "output_type": "stream",
     "text": [
      "[2, 4, 3, 2, 0]\n"
     ]
    }
   ],
   "source": [
    "A=[3,1,2,3,6]\n",
    "print(solution(A))"
   ]
  },
  {
   "cell_type": "markdown",
   "id": "western-express",
   "metadata": {},
   "source": [
    "# CountSemiprimes\n",
    "\n",
    "A prime is a positive integer X that has exactly two distinct divisors: 1 and X. The first few prime integers are 2, 3, 5, 7, 11 and 13.\n",
    "\n",
    "A semiprime is a natural number that is the product of two (not necessarily distinct) prime numbers. The first few semiprimes are 4, 6, 9, 10, 14, 15, 21, 22, 25, 26.\n",
    "\n",
    "You are given two non-empty arrays P and Q, each consisting of M integers. These arrays represent queries about the number of semiprimes within specified ranges.\n",
    "\n",
    "Query K requires you to find the number of semiprimes within the range (P[K], Q[K]), where 1 ≤ P[K] ≤ Q[K] ≤ N.\n",
    "\n",
    "For example, consider an integer N = 26 and arrays P, Q such that:\n",
    "\n",
    "    P[0] = 1    Q[0] = 26\n",
    "    P[1] = 4    Q[1] = 10\n",
    "    P[2] = 16   Q[2] = 20\n",
    "The number of semiprimes within each of these ranges is as follows:\n",
    "\n",
    "(1, 26) is 10,\n",
    "(4, 10) is 4,\n",
    "(16, 20) is 0.\n",
    "Write a function:\n",
    "\n",
    "def solution(N, P, Q)\n",
    "\n",
    "that, given an integer N and two non-empty arrays P and Q consisting of M integers, returns an array consisting of M elements specifying the consecutive answers to all the queries.\n",
    "\n",
    "For example, given an integer N = 26 and arrays P, Q such that:\n",
    "\n",
    "    P[0] = 1    Q[0] = 26\n",
    "    P[1] = 4    Q[1] = 10\n",
    "    P[2] = 16   Q[2] = 20\n",
    "the function should return the values [10, 4, 0], as explained above.\n",
    "\n",
    "Write an efficient algorithm for the following assumptions:\n",
    "\n",
    "N is an integer within the range [1..50,000];\n",
    "M is an integer within the range [1..30,000];\n",
    "each element of arrays P, Q is an integer within the range [1..N];\n",
    "P[i] ≤ Q[i]."
   ]
  },
  {
   "cell_type": "code",
   "execution_count": 8,
   "id": "stylish-property",
   "metadata": {},
   "outputs": [],
   "source": [
    "def solution(N, P, Q):\n",
    "\n",
    "    primes_num = N\n",
    "    sieve = [0]*(primes_num+2)\n",
    "    prev_prim = [0] *(primes_num+2)\n",
    "    next_prim = [0] *(primes_num+2)\n",
    "\n",
    "    for index in range(2,primes_num+1):\n",
    "        prev_prim[index] = index - 1\n",
    "        next_prim[index] = index + 1\n",
    "\n",
    "    current_out = 2\n",
    "    while current_out * current_out <= primes_num:\n",
    "\n",
    "        current_in = prev_prim[primes_num/current_out+1]\n",
    "        while current_in >= current_out:\n",
    "            sieve[current_in*current_out] = current_out\n",
    "            next_prim[prev_prim[current_in*current_out]] = next_prim[current_in*current_out]\n",
    "            prev_prim[next_prim[current_in*current_out]] = prev_prim[current_in*current_out]\n",
    "            current_in = prev_prim[current_in]\n",
    "\n",
    "        current_out = next_prim[current_out]\n",
    "\n",
    "    semiprimes = [0]*(N+1)\n",
    "\n",
    "    for index in range(2,N+1):\n",
    "        if sieve[index] == 0:\n",
    "            continue\n",
    "\n",
    "        div_index = index/sieve[index]\n",
    "        if sieve[div_index] == 0:\n",
    "            semiprimes[index] = 1\n",
    "\n",
    "    for index in range(1,len(semiprimes)):\n",
    "        semiprimes[index] += semiprimes[index-1]\n",
    "\n",
    "    result = []\n",
    "    for index in range(len(P)):\n",
    "        result.append(semiprimes[Q[index]] - semiprimes[P[index]-1])\n",
    "\n",
    "    return result"
   ]
  },
  {
   "cell_type": "code",
   "execution_count": null,
   "id": "common-interval",
   "metadata": {},
   "outputs": [],
   "source": []
  }
 ],
 "metadata": {
  "kernelspec": {
   "display_name": "Python 3",
   "language": "python",
   "name": "python3"
  },
  "language_info": {
   "codemirror_mode": {
    "name": "ipython",
    "version": 3
   },
   "file_extension": ".py",
   "mimetype": "text/x-python",
   "name": "python",
   "nbconvert_exporter": "python",
   "pygments_lexer": "ipython3",
   "version": "3.8.5"
  },
  "latex_envs": {
   "LaTeX_envs_menu_present": true,
   "autoclose": false,
   "autocomplete": true,
   "bibliofile": "biblio.bib",
   "cite_by": "apalike",
   "current_citInitial": 1,
   "eqLabelWithNumbers": true,
   "eqNumInitial": 1,
   "hotkeys": {
    "equation": "Ctrl-E",
    "itemize": "Ctrl-I"
   },
   "labels_anchors": false,
   "latex_user_defs": false,
   "report_style_numbering": false,
   "user_envs_cfg": false
  },
  "toc": {
   "base_numbering": 1,
   "nav_menu": {},
   "number_sections": false,
   "sideBar": true,
   "skip_h1_title": false,
   "title_cell": "Table of Contents",
   "title_sidebar": "Contents",
   "toc_cell": false,
   "toc_position": {},
   "toc_section_display": true,
   "toc_window_display": false
  },
  "varInspector": {
   "cols": {
    "lenName": 16,
    "lenType": 16,
    "lenVar": 40
   },
   "kernels_config": {
    "python": {
     "delete_cmd_postfix": "",
     "delete_cmd_prefix": "del ",
     "library": "var_list.py",
     "varRefreshCmd": "print(var_dic_list())"
    },
    "r": {
     "delete_cmd_postfix": ") ",
     "delete_cmd_prefix": "rm(",
     "library": "var_list.r",
     "varRefreshCmd": "cat(var_dic_list()) "
    }
   },
   "types_to_exclude": [
    "module",
    "function",
    "builtin_function_or_method",
    "instance",
    "_Feature"
   ],
   "window_display": false
  }
 },
 "nbformat": 4,
 "nbformat_minor": 5
}
