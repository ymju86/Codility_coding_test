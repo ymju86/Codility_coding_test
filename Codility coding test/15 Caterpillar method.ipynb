{
 "cells": [
  {
   "cell_type": "markdown",
   "id": "informed-advance",
   "metadata": {},
   "source": [
    "# 15 Caterpillar method"
   ]
  },
  {
   "cell_type": "markdown",
   "id": "finite-mauritius",
   "metadata": {},
   "source": [
    "# AbsDistinct\n",
    "\n",
    "A non-empty array A consisting of N numbers is given. The array is sorted in non-decreasing order. The absolute distinct count of this array is the number of distinct absolute values among the elements of the array.\n",
    "\n",
    "For example, consider array A such that:\n",
    "\n",
    "  A[0] = -5\n",
    "  A[1] = -3\n",
    "  A[2] = -1\n",
    "  A[3] =  0\n",
    "  A[4] =  3\n",
    "  A[5] =  6\n",
    "The absolute distinct count of this array is 5, because there are 5 distinct absolute values among the elements of this array, namely 0, 1, 3, 5 and 6.\n",
    "\n",
    "Write a function:\n",
    "\n",
    "def solution(A)\n",
    "\n",
    "that, given a non-empty array A consisting of N numbers, returns absolute distinct count of array A.\n",
    "\n",
    "For example, given array A such that:\n",
    "\n",
    "  A[0] = -5\n",
    "  A[1] = -3\n",
    "  A[2] = -1\n",
    "  A[3] =  0\n",
    "  A[4] =  3\n",
    "  A[5] =  6\n",
    "the function should return 5, as explained above.\n",
    "\n",
    "Write an efficient algorithm for the following assumptions:\n",
    "\n",
    "N is an integer within the range [1..100,000];\n",
    "each element of array A is an integer within the range [−2,147,483,648..2,147,483,647];\n",
    "array A is sorted in non-decreasing order."
   ]
  },
  {
   "cell_type": "code",
   "execution_count": 1,
   "id": "consistent-doctrine",
   "metadata": {},
   "outputs": [],
   "source": [
    "def solution(A):\n",
    "\n",
    "    result = 0\n",
    "    last = A[0]\n",
    "\n",
    "    exists = set()\n",
    "\n",
    "    for x in A:\n",
    "        abs_x = abs(x)\n",
    "        if abs_x in exists:\n",
    "            continue\n",
    "        result += 1\n",
    "        exists.add(abs_x)\n",
    "\n",
    "    return result"
   ]
  },
  {
   "cell_type": "code",
   "execution_count": 2,
   "id": "external-shareware",
   "metadata": {},
   "outputs": [
    {
     "name": "stdout",
     "output_type": "stream",
     "text": [
      "5\n"
     ]
    }
   ],
   "source": [
    "A=[-5,-3,-1,0,3,6]\n",
    "print(solution(A))"
   ]
  },
  {
   "cell_type": "markdown",
   "id": "varying-budget",
   "metadata": {},
   "source": [
    "# CountDistinctSlices\n",
    "\n",
    "An integer M and a non-empty array A consisting of N non-negative integers are given. All integers in array A are less than or equal to M.\n",
    "\n",
    "A pair of integers (P, Q), such that 0 ≤ P ≤ Q < N, is called a slice of array A. The slice consists of the elements A[P], A[P + 1], ..., A[Q]. A distinct slice is a slice consisting of only unique numbers. That is, no individual number occurs more than once in the slice.\n",
    "\n",
    "For example, consider integer M = 6 and array A such that:\n",
    "\n",
    "    A[0] = 3\n",
    "    A[1] = 4\n",
    "    A[2] = 5\n",
    "    A[3] = 5\n",
    "    A[4] = 2\n",
    "There are exactly nine distinct slices: (0, 0), (0, 1), (0, 2), (1, 1), (1, 2), (2, 2), (3, 3), (3, 4) and (4, 4).\n",
    "\n",
    "The goal is to calculate the number of distinct slices.\n",
    "\n",
    "Write a function:\n",
    "\n",
    "def solution(M, A)\n",
    "\n",
    "that, given an integer M and a non-empty array A consisting of N integers, returns the number of distinct slices.\n",
    "\n",
    "If the number of distinct slices is greater than 1,000,000,000, the function should return 1,000,000,000.\n",
    "\n",
    "For example, given integer M = 6 and array A such that:\n",
    "\n",
    "    A[0] = 3\n",
    "    A[1] = 4\n",
    "    A[2] = 5\n",
    "    A[3] = 5\n",
    "    A[4] = 2\n",
    "the function should return 9, as explained above.\n",
    "\n",
    "Write an efficient algorithm for the following assumptions:\n",
    "\n",
    "N is an integer within the range [1..100,000];\n",
    "M is an integer within the range [0..100,000];\n",
    "each element of array A is an integer within the range [0..M]."
   ]
  },
  {
   "cell_type": "code",
   "execution_count": 3,
   "id": "norwegian-temperature",
   "metadata": {},
   "outputs": [],
   "source": [
    "def solution(M, A):\n",
    "\n",
    "    occured = [0]  * (M + 1)\n",
    "\n",
    "    start = 0\n",
    "    result = 0\n",
    "    for index in range(len(A)):\n",
    "        element = A[index]\n",
    "\n",
    "        if occured[element] == 1:\n",
    "            for x in range(start, index):\n",
    "                occured[A[x]] = 0\n",
    "                if A[x] == element:\n",
    "                    start = x + 1\n",
    "                    break\n",
    "\n",
    "\n",
    "        result += index - start + 1\n",
    "        occured[element] += 1\n",
    "\n",
    "    return min(result, 1000000000)"
   ]
  },
  {
   "cell_type": "code",
   "execution_count": 5,
   "id": "imposed-lodge",
   "metadata": {},
   "outputs": [
    {
     "name": "stdout",
     "output_type": "stream",
     "text": [
      "9\n"
     ]
    }
   ],
   "source": [
    "A=[3,4,5,5,2]\n",
    "M=6\n",
    "print(solution(M,A))"
   ]
  },
  {
   "cell_type": "markdown",
   "id": "exempt-three",
   "metadata": {},
   "source": [
    "# CountTriangles\n",
    "\n",
    "An array A consisting of N integers is given. A triplet (P, Q, R) is triangular if it is possible to build a triangle with sides of lengths A[P], A[Q] and A[R]. In other words, triplet (P, Q, R) is triangular if 0 ≤ P < Q < R < N and:\n",
    "\n",
    "A[P] + A[Q] > A[R],\n",
    "A[Q] + A[R] > A[P],\n",
    "A[R] + A[P] > A[Q].\n",
    "For example, consider array A such that:\n",
    "\n",
    "  A[0] = 10    A[1] = 2    A[2] = 5\n",
    "  A[3] = 1     A[4] = 8    A[5] = 12\n",
    "There are four triangular triplets that can be constructed from elements of this array, namely (0, 2, 4), (0, 2, 5), (0, 4, 5), and (2, 4, 5).\n",
    "\n",
    "Write a function:\n",
    "\n",
    "def solution(A)\n",
    "\n",
    "that, given an array A consisting of N integers, returns the number of triangular triplets in this array.\n",
    "\n",
    "For example, given array A such that:\n",
    "\n",
    "  A[0] = 10    A[1] = 2    A[2] = 5\n",
    "  A[3] = 1     A[4] = 8    A[5] = 12\n",
    "the function should return 4, as explained above.\n",
    "\n",
    "Write an efficient algorithm for the following assumptions:\n",
    "\n",
    "N is an integer within the range [0..1,000];\n",
    "each element of array A is an integer within the range [1..1,000,000,000]."
   ]
  },
  {
   "cell_type": "code",
   "execution_count": 7,
   "id": "complex-reporter",
   "metadata": {},
   "outputs": [],
   "source": [
    "def solution(A):\n",
    "\n",
    "    a_sorted = sorted(A)\n",
    "\n",
    "    result = 0\n",
    "    print(a_sorted)\n",
    "    for x in range(len(A)):\n",
    "        z = 0\n",
    "        for y in range(x+1, len(A)-1):\n",
    "            if y > z:\n",
    "                z = y + 1\n",
    "\n",
    "            while z < len(A) and a_sorted[x] + a_sorted[y] > a_sorted[z] :\n",
    "                z += 1\n",
    "\n",
    "            result += z - (y + 1)\n",
    "\n",
    "    return result"
   ]
  },
  {
   "cell_type": "code",
   "execution_count": 8,
   "id": "suspended-advisory",
   "metadata": {},
   "outputs": [
    {
     "name": "stdout",
     "output_type": "stream",
     "text": [
      "[1, 2, 5, 8, 10, 12]\n",
      "4\n"
     ]
    }
   ],
   "source": [
    "A=[10,2,5,1,8,12]\n",
    "print(solution(A))"
   ]
  },
  {
   "cell_type": "markdown",
   "id": "motivated-danger",
   "metadata": {},
   "source": [
    "# MinAbsSumOfTwo\n",
    "\n",
    "Let A be a non-empty array consisting of N integers.\n",
    "\n",
    "The abs sum of two for a pair of indices (P, Q) is the absolute value |A[P] + A[Q]|, for 0 ≤ P ≤ Q < N.\n",
    "\n",
    "For example, the following array A:\n",
    "\n",
    "  A[0] =  1\n",
    "  A[1] =  4\n",
    "  A[2] = -3\n",
    "has pairs of indices (0, 0), (0, 1), (0, 2), (1, 1), (1, 2), (2, 2).\n",
    "The abs sum of two for the pair (0, 0) is A[0] + A[0] = |1 + 1| = 2.\n",
    "The abs sum of two for the pair (0, 1) is A[0] + A[1] = |1 + 4| = 5.\n",
    "The abs sum of two for the pair (0, 2) is A[0] + A[2] = |1 + (−3)| = 2.\n",
    "The abs sum of two for the pair (1, 1) is A[1] + A[1] = |4 + 4| = 8.\n",
    "The abs sum of two for the pair (1, 2) is A[1] + A[2] = |4 + (−3)| = 1.\n",
    "The abs sum of two for the pair (2, 2) is A[2] + A[2] = |(−3) + (−3)| = 6.\n",
    "Write a function:\n",
    "\n",
    "def solution(A)\n",
    "\n",
    "that, given a non-empty array A consisting of N integers, returns the minimal abs sum of two for any pair of indices in this array.\n",
    "\n",
    "For example, given the following array A:\n",
    "\n",
    "  A[0] =  1\n",
    "  A[1] =  4\n",
    "  A[2] = -3\n",
    "the function should return 1, as explained above.\n",
    "\n",
    "Given array A:\n",
    "\n",
    "  A[0] = -8\n",
    "  A[1] =  4\n",
    "  A[2] =  5\n",
    "  A[3] =-10\n",
    "  A[4] =  3\n",
    "the function should return |(−8) + 5| = 3.\n",
    "\n",
    "Write an efficient algorithm for the following assumptions:\n",
    "\n",
    "N is an integer within the range [1..100,000];\n",
    "each element of array A is an integer within the range [−1,000,000,000..1,000,000,000]."
   ]
  },
  {
   "cell_type": "code",
   "execution_count": 9,
   "id": "technical-receptor",
   "metadata": {},
   "outputs": [],
   "source": [
    "def solution(A):\n",
    "\n",
    "    a_sorted = sorted(A)\n",
    "    \n",
    "    end = len(A) - 1\n",
    "    result = abs(a_sorted[0] + a_sorted[end])\n",
    "    for index in range(len(A)):\n",
    "        \n",
    "        current = end\n",
    "        current_result = abs(a_sorted[index] + a_sorted[current])\n",
    "        while current >= 0 and abs(a_sorted[index] + a_sorted[current]) <= current_result:\n",
    "            \n",
    "            current_result = abs(a_sorted[index] + a_sorted[current])\n",
    "            end = current\n",
    "            current -= 1\n",
    "        \n",
    "        if current_result < result:\n",
    "            result = current_result\n",
    "    return result"
   ]
  },
  {
   "cell_type": "code",
   "execution_count": 10,
   "id": "working-event",
   "metadata": {},
   "outputs": [
    {
     "name": "stdout",
     "output_type": "stream",
     "text": [
      "3\n"
     ]
    }
   ],
   "source": [
    "A=[-8,4,5,-10,3]\n",
    "print(solution(A))"
   ]
  }
 ],
 "metadata": {
  "kernelspec": {
   "display_name": "Python 3",
   "language": "python",
   "name": "python3"
  },
  "language_info": {
   "codemirror_mode": {
    "name": "ipython",
    "version": 3
   },
   "file_extension": ".py",
   "mimetype": "text/x-python",
   "name": "python",
   "nbconvert_exporter": "python",
   "pygments_lexer": "ipython3",
   "version": "3.8.5"
  },
  "latex_envs": {
   "LaTeX_envs_menu_present": true,
   "autoclose": false,
   "autocomplete": true,
   "bibliofile": "biblio.bib",
   "cite_by": "apalike",
   "current_citInitial": 1,
   "eqLabelWithNumbers": true,
   "eqNumInitial": 1,
   "hotkeys": {
    "equation": "Ctrl-E",
    "itemize": "Ctrl-I"
   },
   "labels_anchors": false,
   "latex_user_defs": false,
   "report_style_numbering": false,
   "user_envs_cfg": false
  },
  "toc": {
   "base_numbering": 1,
   "nav_menu": {},
   "number_sections": false,
   "sideBar": true,
   "skip_h1_title": false,
   "title_cell": "Table of Contents",
   "title_sidebar": "Contents",
   "toc_cell": false,
   "toc_position": {},
   "toc_section_display": true,
   "toc_window_display": false
  },
  "varInspector": {
   "cols": {
    "lenName": 16,
    "lenType": 16,
    "lenVar": 40
   },
   "kernels_config": {
    "python": {
     "delete_cmd_postfix": "",
     "delete_cmd_prefix": "del ",
     "library": "var_list.py",
     "varRefreshCmd": "print(var_dic_list())"
    },
    "r": {
     "delete_cmd_postfix": ") ",
     "delete_cmd_prefix": "rm(",
     "library": "var_list.r",
     "varRefreshCmd": "cat(var_dic_list()) "
    }
   },
   "types_to_exclude": [
    "module",
    "function",
    "builtin_function_or_method",
    "instance",
    "_Feature"
   ],
   "window_display": false
  }
 },
 "nbformat": 4,
 "nbformat_minor": 5
}
