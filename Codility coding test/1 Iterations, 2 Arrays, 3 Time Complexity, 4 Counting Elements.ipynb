{
 "cells": [
  {
   "cell_type": "code",
   "execution_count": 7,
   "id": "social-shakespeare",
   "metadata": {},
   "outputs": [],
   "source": [
    "def factorial(n):\n",
    "    fact = 1\n",
    "    for i in range(1,n+1):\n",
    "        fact*=i\n",
    "    return(fact)"
   ]
  },
  {
   "cell_type": "code",
   "execution_count": 8,
   "id": "impaired-provincial",
   "metadata": {},
   "outputs": [
    {
     "data": {
      "text/plain": [
       "120"
      ]
     },
     "execution_count": 8,
     "metadata": {},
     "output_type": "execute_result"
    }
   ],
   "source": [
    "factorial(5)"
   ]
  },
  {
   "cell_type": "code",
   "execution_count": 9,
   "id": "turkish-denmark",
   "metadata": {},
   "outputs": [],
   "source": [
    "def digits(n):\n",
    "    result=0\n",
    "    while n>0:\n",
    "        n=n//10\n",
    "        result+=1\n",
    "    return(result)"
   ]
  },
  {
   "cell_type": "code",
   "execution_count": 10,
   "id": "deadly-coating",
   "metadata": {},
   "outputs": [
    {
     "data": {
      "text/plain": [
       "3"
      ]
     },
     "execution_count": 10,
     "metadata": {},
     "output_type": "execute_result"
    }
   ],
   "source": [
    "digits(100)"
   ]
  },
  {
   "cell_type": "code",
   "execution_count": 11,
   "id": "light-specification",
   "metadata": {},
   "outputs": [
    {
     "data": {
      "text/plain": [
       "2"
      ]
     },
     "execution_count": 11,
     "metadata": {},
     "output_type": "execute_result"
    }
   ],
   "source": [
    "digits(99)"
   ]
  },
  {
   "cell_type": "code",
   "execution_count": 14,
   "id": "blocked-adventure",
   "metadata": {
    "scrolled": true
   },
   "outputs": [
    {
     "name": "stdout",
     "output_type": "stream",
     "text": [
      "mon stands for Monday\n",
      "tue stands for Tuesday\n",
      "wed stands for Wednesday\n",
      "thu stands for Thursday\n",
      "fri stands for Friday\n",
      "sat stands for Saturday\n",
      "sun stands for Sunday\n"
     ]
    }
   ],
   "source": [
    "days = {'mon': 'Monday', 'tue': 'Tuesday', 'wed': 'Wednesday',\n",
    "        'thu': 'Thursday', 'fri': 'Friday', 'sat': 'Saturday',\n",
    "        'sun': 'Sunday'}\n",
    "\n",
    "for day in days:\n",
    "    print(day, 'stands for', days[day])"
   ]
  },
  {
   "cell_type": "markdown",
   "id": "realistic-performer",
   "metadata": {},
   "source": [
    "# 1 Iterations"
   ]
  },
  {
   "cell_type": "markdown",
   "id": "interested-rehabilitation",
   "metadata": {},
   "source": [
    "# BinaryGap\n",
    "\n",
    "A binary gap within a positive integer N is any maximal sequence of consecutive zeros that is surrounded by ones at both ends in the binary representation of N.\n",
    "\n",
    "For example, number 9 has binary representation 1001 and contains a binary gap of length 2. The number 529 has binary representation 1000010001 and contains two binary gaps: one of length 4 and one of length 3. The number 20 has binary representation 10100 and contains one binary gap of length 1. The number 15 has binary representation 1111 and has no binary gaps. The number 32 has binary representation 100000 and has no binary gaps.\n",
    "\n",
    "Write a function:\n",
    "\n",
    "def solution(N)\n",
    "\n",
    "that, given a positive integer N, returns the length of its longest binary gap. The function should return 0 if N doesn't contain a binary gap.\n",
    "\n",
    "For example, given N = 1041 the function should return 5, because N has binary representation 10000010001 and so its longest binary gap is of length 5. Given N = 32 the function should return 0, because N has binary representation '100000' and thus no binary gaps.\n",
    "\n",
    "Write an efficient algorithm for the following assumptions:\n",
    "\n",
    "N is an integer within the range [1..2,147,483,647]."
   ]
  },
  {
   "cell_type": "code",
   "execution_count": 26,
   "id": "mighty-universal",
   "metadata": {},
   "outputs": [],
   "source": [
    "def binary_gap(N):\n",
    "    return len(max(format(N, 'b').strip('0').split('1')))  "
   ]
  },
  {
   "cell_type": "code",
   "execution_count": 29,
   "id": "disturbed-quantum",
   "metadata": {},
   "outputs": [
    {
     "data": {
      "text/plain": [
       "2"
      ]
     },
     "execution_count": 29,
     "metadata": {},
     "output_type": "execute_result"
    }
   ],
   "source": [
    "binary_gap(9)"
   ]
  },
  {
   "cell_type": "code",
   "execution_count": 41,
   "id": "national-senate",
   "metadata": {},
   "outputs": [],
   "source": [
    "class Solution:\n",
    "    def binaryGap(self, n: int) -> int:\n",
    "        last = None\n",
    "        ans = 0\n",
    "        for i in range(32):\n",
    "            if (n >> i) & 1:\n",
    "                if last is not None:\n",
    "                    ans = max(ans, i - last)\n",
    "                last = i\n",
    "        return ans"
   ]
  },
  {
   "cell_type": "code",
   "execution_count": 42,
   "id": "authentic-identification",
   "metadata": {},
   "outputs": [
    {
     "data": {
      "text/plain": [
       "3"
      ]
     },
     "execution_count": 42,
     "metadata": {},
     "output_type": "execute_result"
    }
   ],
   "source": [
    "Solution().binaryGap(9)"
   ]
  },
  {
   "cell_type": "markdown",
   "id": "informative-arlington",
   "metadata": {},
   "source": [
    "# 2 Arrays"
   ]
  },
  {
   "cell_type": "markdown",
   "id": "terminal-assembly",
   "metadata": {},
   "source": [
    "# CyclicRotation\n",
    "\n",
    "An array A consisting of N integers is given. Rotation of the array means that each element is shifted right by one index, and the last element of the array is moved to the first place. For example, the rotation of array A = [3, 8, 9, 7, 6] is [6, 3, 8, 9, 7] (elements are shifted right by one index and 6 is moved to the first place).\n",
    "\n",
    "The goal is to rotate array A K times; that is, each element of A will be shifted to the right K times.\n",
    "\n",
    "Write a function:\n",
    "\n",
    "def solution(A, K)\n",
    "\n",
    "that, given an array A consisting of N integers and an integer K, returns the array A rotated K times.\n",
    "\n",
    "For example, given\n",
    "\n",
    "    A = [3, 8, 9, 7, 6]\n",
    "    K = 3\n",
    "the function should return [9, 7, 6, 3, 8]. Three rotations were made:\n",
    "\n",
    "    [3, 8, 9, 7, 6] -> [6, 3, 8, 9, 7]\n",
    "    [6, 3, 8, 9, 7] -> [7, 6, 3, 8, 9]\n",
    "    [7, 6, 3, 8, 9] -> [9, 7, 6, 3, 8]\n",
    "For another example, given\n",
    "\n",
    "    A = [0, 0, 0]\n",
    "    K = 1\n",
    "the function should return [0, 0, 0]\n",
    "\n",
    "Given\n",
    "\n",
    "    A = [1, 2, 3, 4]\n",
    "    K = 4\n",
    "the function should return [1, 2, 3, 4]\n",
    "\n",
    "Assume that:\n",
    "\n",
    "N and K are integers within the range [0..100];\n",
    "each element of array A is an integer within the range [−1,000..1,000].\n",
    "In your solution, focus on correctness. The performance of your solution will not be the focus of the assessment."
   ]
  },
  {
   "cell_type": "code",
   "execution_count": 52,
   "id": "subjective-patient",
   "metadata": {},
   "outputs": [],
   "source": [
    "class Solution:\n",
    "    def rotate(self, nums: list, k: int) -> None:\n",
    "        n = len(nums)\n",
    "        k %= n\n",
    "        \n",
    "        start = count = 0\n",
    "        while count < n:\n",
    "            current, prev = start, nums[start]\n",
    "            while True:\n",
    "                next_idx = (current + k) % n\n",
    "                nums[next_idx], prev = prev, nums[next_idx]\n",
    "                current = next_idx\n",
    "                count += 1\n",
    "                \n",
    "                if start == current:\n",
    "                    break\n",
    "            start += 1\n",
    "        return(nums)"
   ]
  },
  {
   "cell_type": "code",
   "execution_count": 55,
   "id": "human-collaboration",
   "metadata": {},
   "outputs": [],
   "source": [
    "A=Solution().rotate([1,2,3,4,5,6],3)"
   ]
  },
  {
   "cell_type": "code",
   "execution_count": 56,
   "id": "distributed-maria",
   "metadata": {},
   "outputs": [
    {
     "name": "stdout",
     "output_type": "stream",
     "text": [
      "[4, 5, 6, 1, 2, 3]\n"
     ]
    }
   ],
   "source": [
    "print(A)"
   ]
  },
  {
   "cell_type": "markdown",
   "id": "organic-decade",
   "metadata": {},
   "source": [
    "# OddOccurrencesInArray\n",
    "\n",
    "A non-empty array A consisting of N integers is given. The array contains an odd number of elements, and each element of the array can be paired with another element that has the same value, except for one element that is left unpaired.\n",
    "\n",
    "For example, in array A such that:\n",
    "\n",
    "  A[0] = 9  A[1] = 3  A[2] = 9\n",
    "  A[3] = 3  A[4] = 9  A[5] = 7\n",
    "  A[6] = 9\n",
    "the elements at indexes 0 and 2 have value 9,\n",
    "the elements at indexes 1 and 3 have value 3,\n",
    "the elements at indexes 4 and 6 have value 9,\n",
    "the element at index 5 has value 7 and is unpaired.\n",
    "Write a function:\n",
    "\n",
    "def solution(A)\n",
    "\n",
    "that, given an array A consisting of N integers fulfilling the above conditions, returns the value of the unpaired element.\n",
    "\n",
    "For example, given array A such that:\n",
    "\n",
    "  A[0] = 9  A[1] = 3  A[2] = 9\n",
    "  A[3] = 3  A[4] = 9  A[5] = 7\n",
    "  A[6] = 9\n",
    "the function should return 7, as explained in the example above.\n",
    "\n",
    "Write an efficient algorithm for the following assumptions:\n",
    "\n",
    "N is an odd integer within the range [1..1,000,000];\n",
    "each element of array A is an integer within the range [1..1,000,000,000];\n",
    "all but one of the values in A occur an even number of times."
   ]
  },
  {
   "cell_type": "code",
   "execution_count": 64,
   "id": "signal-indonesia",
   "metadata": {},
   "outputs": [],
   "source": [
    "def oddoccur(A):\n",
    "   result = 0\n",
    "   for number in A:\n",
    "     result ^= number\n",
    "   return result"
   ]
  },
  {
   "cell_type": "code",
   "execution_count": 72,
   "id": "superior-socket",
   "metadata": {},
   "outputs": [],
   "source": [
    "def solution(A):     \n",
    "    if len(A) == 1:\n",
    "         return A[0]\n",
    "    A = sorted(A)\n",
    "    for i in range(0 , len (A) , 2):\n",
    "         if i+1 == len(A):\n",
    "             return A[i]\n",
    "         if A[i] != A[i+1]:\n",
    "             return A[i]"
   ]
  },
  {
   "cell_type": "markdown",
   "id": "superb-promotion",
   "metadata": {},
   "source": [
    "# 3 Time Complexity"
   ]
  },
  {
   "cell_type": "markdown",
   "id": "decent-consumption",
   "metadata": {},
   "source": [
    "# FrogJmp\n",
    "\n",
    "A small frog wants to get to the other side of the road. The frog is currently located at position X and wants to get to a position greater than or equal to Y. The small frog always jumps a fixed distance, D.\n",
    "\n",
    "Count the minimal number of jumps that the small frog must perform to reach its target.\n",
    "\n",
    "Write a function:\n",
    "\n",
    "def solution(X, Y, D)\n",
    "\n",
    "that, given three integers X, Y and D, returns the minimal number of jumps from position X to a position equal to or greater than Y.\n",
    "\n",
    "For example, given:\n",
    "\n",
    "  X = 10\n",
    "  Y = 85\n",
    "  D = 30\n",
    "the function should return 3, because the frog will be positioned as follows:\n",
    "\n",
    "after the first jump, at position 10 + 30 = 40\n",
    "after the second jump, at position 10 + 30 + 30 = 70\n",
    "after the third jump, at position 10 + 30 + 30 + 30 = 100\n",
    "Write an efficient algorithm for the following assumptions:\n",
    "\n",
    "X, Y and D are integers within the range [1..1,000,000,000];\n",
    "X ≤ Y."
   ]
  },
  {
   "cell_type": "code",
   "execution_count": 65,
   "id": "strange-demonstration",
   "metadata": {},
   "outputs": [],
   "source": [
    "def frogjmp(X, Y, D):\n",
    "    return (Y - X) // D if (Y - X) % D == 0 else (Y - X) // D + 1"
   ]
  },
  {
   "cell_type": "code",
   "execution_count": null,
   "id": "located-allah",
   "metadata": {},
   "outputs": [],
   "source": []
  },
  {
   "cell_type": "markdown",
   "id": "suffering-essex",
   "metadata": {},
   "source": [
    "# PermMissingElem\n",
    "\n",
    "An array A consisting of N different integers is given. The array contains integers in the range [1..(N + 1)], which means that exactly one element is missing.\n",
    "\n",
    "Your goal is to find that missing element.\n",
    "\n",
    "Write a function:\n",
    "\n",
    "def solution(A)\n",
    "\n",
    "that, given an array A, returns the value of the missing element.\n",
    "\n",
    "For example, given array A such that:\n",
    "\n",
    "  A[0] = 2\n",
    "  A[1] = 3\n",
    "  A[2] = 1\n",
    "  A[3] = 5\n",
    "the function should return 4, as it is the missing element.\n",
    "\n",
    "Write an efficient algorithm for the following assumptions:\n",
    "\n",
    "N is an integer within the range [0..100,000];\n",
    "the elements of A are all distinct;\n",
    "each element of array A is an integer within the range [1..(N + 1)]."
   ]
  },
  {
   "cell_type": "code",
   "execution_count": 67,
   "id": "indirect-anxiety",
   "metadata": {},
   "outputs": [],
   "source": [
    "def PME(A):\n",
    "    sum = 0\n",
    "    N = len(A)\n",
    "    for i in A:\n",
    "        sum += i\n",
    "    exp = (N + 1) * (N + 2) / 2;\n",
    "    return(exp - sum)"
   ]
  },
  {
   "cell_type": "code",
   "execution_count": 68,
   "id": "broadband-destiny",
   "metadata": {},
   "outputs": [
    {
     "name": "stdout",
     "output_type": "stream",
     "text": [
      "4.0\n"
     ]
    }
   ],
   "source": [
    "A = [2, 3, 1, 5]\n",
    "print(PME(A))"
   ]
  },
  {
   "cell_type": "markdown",
   "id": "patent-display",
   "metadata": {},
   "source": [
    "# TapeEquilibrium\n",
    "\n",
    "A non-empty array A consisting of N integers is given. Array A represents numbers on a tape.\n",
    "\n",
    "Any integer P, such that 0 < P < N, splits this tape into two non-empty parts: A[0], A[1], ..., A[P − 1] and A[P], A[P + 1], ..., A[N − 1].\n",
    "\n",
    "The difference between the two parts is the value of: |(A[0] + A[1] + ... + A[P − 1]) − (A[P] + A[P + 1] + ... + A[N − 1])|\n",
    "\n",
    "In other words, it is the absolute difference between the sum of the first part and the sum of the second part.\n",
    "\n",
    "For example, consider array A such that:\n",
    "\n",
    "  A[0] = 3\n",
    "  A[1] = 1\n",
    "  A[2] = 2\n",
    "  A[3] = 4\n",
    "  A[4] = 3\n",
    "We can split this tape in four places:\n",
    "\n",
    "P = 1, difference = |3 − 10| = 7\n",
    "P = 2, difference = |4 − 9| = 5\n",
    "P = 3, difference = |6 − 7| = 1\n",
    "P = 4, difference = |10 − 3| = 7\n",
    "Write a function:\n",
    "\n",
    "def solution(A)\n",
    "\n",
    "that, given a non-empty array A of N integers, returns the minimal difference that can be achieved.\n",
    "\n",
    "For example, given:\n",
    "\n",
    "  A[0] = 3\n",
    "  A[1] = 1\n",
    "  A[2] = 2\n",
    "  A[3] = 4\n",
    "  A[4] = 3\n",
    "the function should return 1, as explained above.\n",
    "\n",
    "Write an efficient algorithm for the following assumptions:\n",
    "\n",
    "N is an integer within the range [2..100,000];\n",
    "each element of array A is an integer within the range [−1,000..1,000]."
   ]
  },
  {
   "cell_type": "code",
   "execution_count": 69,
   "id": "attractive-hawaii",
   "metadata": {},
   "outputs": [],
   "source": [
    "def TE(A):\n",
    "    N = len(A) -1\n",
    "\n",
    "    sum = 0\n",
    "    for i in A:\n",
    "        sum += i\n",
    "\n",
    "    left = sum - A[N]\n",
    "    right = A[N]\n",
    "    diff = abs(right - left)\n",
    "    for ind in range(N - 1, 0, -1):\n",
    "        left -= A[ind]\n",
    "        right += A[ind]\n",
    "\n",
    "        diff = min(diff, abs(right - left))\n",
    "\n",
    "    return diff"
   ]
  },
  {
   "cell_type": "code",
   "execution_count": 70,
   "id": "breathing-worship",
   "metadata": {},
   "outputs": [
    {
     "name": "stdout",
     "output_type": "stream",
     "text": [
      "1\n"
     ]
    }
   ],
   "source": [
    "A = [3, 1, 2, 4, 3]\n",
    "print(TE(A))"
   ]
  },
  {
   "cell_type": "markdown",
   "id": "right-chicken",
   "metadata": {},
   "source": [
    "# 4 Counting "
   ]
  },
  {
   "cell_type": "markdown",
   "id": "ceramic-uncle",
   "metadata": {},
   "source": [
    "# FrogRiverOne\n",
    "\n",
    "A small frog wants to get to the other side of a river. The frog is initially located on one bank of the river (position 0) and wants to get to the opposite bank (position X+1). Leaves fall from a tree onto the surface of the river.\n",
    "\n",
    "You are given an array A consisting of N integers representing the falling leaves. A[K] represents the position where one leaf falls at time K, measured in seconds.\n",
    "\n",
    "The goal is to find the earliest time when the frog can jump to the other side of the river. The frog can cross only when leaves appear at every position across the river from 1 to X (that is, we want to find the earliest moment when all the positions from 1 to X are covered by leaves). You may assume that the speed of the current in the river is negligibly small, i.e. the leaves do not change their positions once they fall in the river.\n",
    "\n",
    "For example, you are given integer X = 5 and array A such that:\n",
    "\n",
    "  A[0] = 1\n",
    "  A[1] = 3\n",
    "  A[2] = 1\n",
    "  A[3] = 4\n",
    "  A[4] = 2\n",
    "  A[5] = 3\n",
    "  A[6] = 5\n",
    "  A[7] = 4\n",
    "In second 6, a leaf falls into position 5. This is the earliest time when leaves appear in every position across the river.\n",
    "\n",
    "Write a function:\n",
    "\n",
    "def solution(X, A)\n",
    "\n",
    "that, given a non-empty array A consisting of N integers and integer X, returns the earliest time when the frog can jump to the other side of the river.\n",
    "\n",
    "If the frog is never able to jump to the other side of the river, the function should return −1.\n",
    "\n",
    "For example, given X = 5 and array A such that:\n",
    "\n",
    "  A[0] = 1\n",
    "  A[1] = 3\n",
    "  A[2] = 1\n",
    "  A[3] = 4\n",
    "  A[4] = 2\n",
    "  A[5] = 3\n",
    "  A[6] = 5\n",
    "  A[7] = 4\n",
    "the function should return 6, as explained above.\n",
    "\n",
    "Write an efficient algorithm for the following assumptions:\n",
    "\n",
    "N and X are integers within the range [1..100,000];\n",
    "each element of array A is an integer within the range [1..X]."
   ]
  },
  {
   "cell_type": "code",
   "execution_count": 6,
   "id": "statistical-cisco",
   "metadata": {},
   "outputs": [],
   "source": [
    "def FRO(X, A):\n",
    "    N = len(A)\n",
    "    count = [0] * (X + 1)\n",
    "\n",
    "    pos = 1\n",
    "    min_time = 0\n",
    "    for ind in range(1,N): # don't need to consider at position 0 (initial point)\n",
    "        if A[ind] <= X and count[A[ind]] == 0:\n",
    "            count[A[ind]] = ind\n",
    "\n",
    "    while pos <= X and count[pos] != 0:\n",
    "        min_time = max(min_time, count[pos])\n",
    "        pos += 1\n",
    "\n",
    "    return min_time if pos > X else -1"
   ]
  },
  {
   "cell_type": "code",
   "execution_count": 1,
   "id": "romance-phone",
   "metadata": {},
   "outputs": [
    {
     "name": "stdout",
     "output_type": "stream",
     "text": [
      "[-1, -1, -1, -1, -1, -1]\n"
     ]
    }
   ],
   "source": [
    "count = [-1] * (5 + 1)\n",
    "print(count)"
   ]
  },
  {
   "cell_type": "code",
   "execution_count": 11,
   "id": "provincial-giant",
   "metadata": {},
   "outputs": [
    {
     "name": "stdout",
     "output_type": "stream",
     "text": [
      "6\n"
     ]
    }
   ],
   "source": [
    "    X = 5\n",
    "    A = [1, 3, 1, 4, 2, 3, 5, 4]\n",
    "    # X = 1\n",
    "    # A = [2]\n",
    "    print(FRO(X, A))"
   ]
  },
  {
   "cell_type": "markdown",
   "id": "immune-material",
   "metadata": {},
   "source": [
    "# MaxCounters\n",
    "\n",
    "You are given N counters, initially set to 0, and you have two possible operations on them:\n",
    "\n",
    "increase(X) − counter X is increased by 1,\n",
    "max counter − all counters are set to the maximum value of any counter.\n",
    "A non-empty array A of M integers is given. This array represents consecutive operations:\n",
    "\n",
    "if A[K] = X, such that 1 ≤ X ≤ N, then operation K is increase(X),\n",
    "if A[K] = N + 1 then operation K is max counter.\n",
    "For example, given integer N = 5 and array A such that:\n",
    "\n",
    "    A[0] = 3\n",
    "    A[1] = 4\n",
    "    A[2] = 4\n",
    "    A[3] = 6\n",
    "    A[4] = 1\n",
    "    A[5] = 4\n",
    "    A[6] = 4\n",
    "the values of the counters after each consecutive operation will be:\n",
    "\n",
    "    (0, 0, 1, 0, 0)\n",
    "    (0, 0, 1, 1, 0)\n",
    "    (0, 0, 1, 2, 0)\n",
    "    (2, 2, 2, 2, 2)\n",
    "    (3, 2, 2, 2, 2)\n",
    "    (3, 2, 2, 3, 2)\n",
    "    (3, 2, 2, 4, 2)\n",
    "The goal is to calculate the value of every counter after all operations.\n",
    "\n",
    "Write a function:\n",
    "\n",
    "def solution(N, A)\n",
    "\n",
    "that, given an integer N and a non-empty array A consisting of M integers, returns a sequence of integers representing the values of the counters.\n",
    "\n",
    "Result array should be returned as an array of integers.\n",
    "\n",
    "For example, given:\n",
    "\n",
    "    A[0] = 3\n",
    "    A[1] = 4\n",
    "    A[2] = 4\n",
    "    A[3] = 6\n",
    "    A[4] = 1\n",
    "    A[5] = 4\n",
    "    A[6] = 4\n",
    "the function should return [3, 2, 2, 4, 2], as explained above.\n",
    "\n",
    "Write an efficient algorithm for the following assumptions:\n",
    "\n",
    "N and M are integers within the range [1..100,000];\n",
    "each element of array A is an integer within the range [1..N + 1]."
   ]
  },
  {
   "cell_type": "code",
   "execution_count": 12,
   "id": "duplicate-letter",
   "metadata": {},
   "outputs": [],
   "source": [
    "def MC(N, A):\n",
    "    \n",
    "    M = len(A)\n",
    "    counters = [0] * N\n",
    "\n",
    "    max_result = max_counter = 0\n",
    "    for ind in range(M):\n",
    "        if A[ind] == N + 1:\n",
    "            max_result = max(max_result, max_counter)\n",
    "        else:\n",
    "            if counters[A[ind] - 1] < max_result:\n",
    "                counters[A[ind] - 1] = max_result\n",
    "\n",
    "            counters[A[ind] - 1] += 1\n",
    "            max_counter = max(max_counter, counters[A[ind] - 1])\n",
    "\n",
    "    for ind in range(N):\n",
    "        counters[ind] = max(max_result, counters[ind])\n",
    "\n",
    "    return counters"
   ]
  },
  {
   "cell_type": "code",
   "execution_count": 13,
   "id": "seasonal-patent",
   "metadata": {},
   "outputs": [
    {
     "name": "stdout",
     "output_type": "stream",
     "text": [
      "[3, 2, 2, 4, 2]\n"
     ]
    }
   ],
   "source": [
    "N = 5\n",
    "A = [3, 4, 4, 6, 1, 4, 4]\n",
    "print(MC(N, A))"
   ]
  },
  {
   "cell_type": "markdown",
   "id": "respective-nature",
   "metadata": {},
   "source": [
    "# MissingInteger\n",
    "\n",
    "This is a demo task.\n",
    "\n",
    "Write a function:\n",
    "\n",
    "def solution(A)\n",
    "\n",
    "that, given an array A of N integers, returns the smallest positive integer (greater than 0) that does not occur in A.\n",
    "\n",
    "For example, given A = [1, 3, 6, 4, 1, 2], the function should return 5.\n",
    "\n",
    "Given A = [1, 2, 3], the function should return 4.\n",
    "\n",
    "Given A = [−1, −3], the function should return 1.\n",
    "\n",
    "Write an efficient algorithm for the following assumptions:\n",
    "\n",
    "N is an integer within the range [1..100,000];\n",
    "each element of array A is an integer within the range [−1,000,000..1,000,000]."
   ]
  },
  {
   "cell_type": "code",
   "execution_count": 14,
   "id": "lesser-serbia",
   "metadata": {},
   "outputs": [],
   "source": [
    "def MI(A):\n",
    "\n",
    "    N = len(A)\n",
    "    ints = [0] * (N + 2)\n",
    "\n",
    "    for num in A:\n",
    "        if 1 <= num <= N:\n",
    "            ints[num] += 1\n",
    "\n",
    "    for ind in range(1, N + 2):\n",
    "        if ints[ind] == 0:\n",
    "            return ind\n",
    "\n",
    "    # should never happen\n",
    "    return -1"
   ]
  },
  {
   "cell_type": "code",
   "execution_count": 15,
   "id": "designing-ticket",
   "metadata": {},
   "outputs": [
    {
     "name": "stdout",
     "output_type": "stream",
     "text": [
      "5\n"
     ]
    }
   ],
   "source": [
    "A = [1, 3, 6, 4, 1, 2]\n",
    "print(MI(A))"
   ]
  },
  {
   "cell_type": "markdown",
   "id": "sustainable-criterion",
   "metadata": {},
   "source": [
    "# PermCheck\n",
    "\n",
    "A non-empty array A consisting of N integers is given.\n",
    "\n",
    "A permutation is a sequence containing each element from 1 to N once, and only once.\n",
    "\n",
    "For example, array A such that:\n",
    "\n",
    "    A[0] = 4\n",
    "    A[1] = 1\n",
    "    A[2] = 3\n",
    "    A[3] = 2\n",
    "is a permutation, but array A such that:\n",
    "\n",
    "    A[0] = 4\n",
    "    A[1] = 1\n",
    "    A[2] = 3\n",
    "is not a permutation, because value 2 is missing.\n",
    "\n",
    "The goal is to check whether array A is a permutation.\n",
    "\n",
    "Write a function:\n",
    "\n",
    "def solution(A)\n",
    "\n",
    "that, given an array A, returns 1 if array A is a permutation and 0 if it is not.\n",
    "\n",
    "For example, given array A such that:\n",
    "\n",
    "    A[0] = 4\n",
    "    A[1] = 1\n",
    "    A[2] = 3\n",
    "    A[3] = 2\n",
    "the function should return 1.\n",
    "\n",
    "Given array A such that:\n",
    "\n",
    "    A[0] = 4\n",
    "    A[1] = 1\n",
    "    A[2] = 3\n",
    "the function should return 0.\n",
    "\n",
    "Write an efficient algorithm for the following assumptions:\n",
    "\n",
    "N is an integer within the range [1..100,000];\n",
    "each element of array A is an integer within the range [1..1,000,000,000]."
   ]
  },
  {
   "cell_type": "code",
   "execution_count": 16,
   "id": "valid-handbook",
   "metadata": {},
   "outputs": [],
   "source": [
    "def PC(A):\n",
    "    N = len(A)\n",
    "    count = [0] * (N)\n",
    "    for val in A:\n",
    "        if val < 1 or val > N:\n",
    "            return 0\n",
    "\n",
    "        count[val - 1] += 1\n",
    "\n",
    "    for ind in range(N):\n",
    "        if count[ind] != 1:\n",
    "            return 0\n",
    "\n",
    "    return 1"
   ]
  },
  {
   "cell_type": "code",
   "execution_count": 17,
   "id": "assured-handle",
   "metadata": {},
   "outputs": [
    {
     "name": "stdout",
     "output_type": "stream",
     "text": [
      "1\n"
     ]
    }
   ],
   "source": [
    "A = [4, 1, 3, 2]\n",
    "print(PC(A))"
   ]
  }
 ],
 "metadata": {
  "kernelspec": {
   "display_name": "Python 3",
   "language": "python",
   "name": "python3"
  },
  "language_info": {
   "codemirror_mode": {
    "name": "ipython",
    "version": 3
   },
   "file_extension": ".py",
   "mimetype": "text/x-python",
   "name": "python",
   "nbconvert_exporter": "python",
   "pygments_lexer": "ipython3",
   "version": "3.8.5"
  },
  "latex_envs": {
   "LaTeX_envs_menu_present": true,
   "autoclose": false,
   "autocomplete": true,
   "bibliofile": "biblio.bib",
   "cite_by": "apalike",
   "current_citInitial": 1,
   "eqLabelWithNumbers": true,
   "eqNumInitial": 1,
   "hotkeys": {
    "equation": "Ctrl-E",
    "itemize": "Ctrl-I"
   },
   "labels_anchors": false,
   "latex_user_defs": false,
   "report_style_numbering": false,
   "user_envs_cfg": false
  },
  "toc": {
   "base_numbering": 1,
   "nav_menu": {},
   "number_sections": false,
   "sideBar": true,
   "skip_h1_title": false,
   "title_cell": "Table of Contents",
   "title_sidebar": "Contents",
   "toc_cell": false,
   "toc_position": {},
   "toc_section_display": true,
   "toc_window_display": false
  },
  "varInspector": {
   "cols": {
    "lenName": 16,
    "lenType": 16,
    "lenVar": 40
   },
   "kernels_config": {
    "python": {
     "delete_cmd_postfix": "",
     "delete_cmd_prefix": "del ",
     "library": "var_list.py",
     "varRefreshCmd": "print(var_dic_list())"
    },
    "r": {
     "delete_cmd_postfix": ") ",
     "delete_cmd_prefix": "rm(",
     "library": "var_list.r",
     "varRefreshCmd": "cat(var_dic_list()) "
    }
   },
   "types_to_exclude": [
    "module",
    "function",
    "builtin_function_or_method",
    "instance",
    "_Feature"
   ],
   "window_display": false
  }
 },
 "nbformat": 4,
 "nbformat_minor": 5
}
