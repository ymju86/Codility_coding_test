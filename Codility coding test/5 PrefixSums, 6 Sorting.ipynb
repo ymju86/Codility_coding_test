{
 "cells": [
  {
   "cell_type": "markdown",
   "id": "naval-soviet",
   "metadata": {},
   "source": [
    "# 5 PrefixSums"
   ]
  },
  {
   "cell_type": "markdown",
   "id": "ruled-biodiversity",
   "metadata": {},
   "source": [
    "# Mushroom picker\n",
    "\n"
   ]
  },
  {
   "cell_type": "markdown",
   "id": "apparent-involvement",
   "metadata": {},
   "source": [
    "Problem: You are given a non-empty, zero-indexed array A of n (1 <= n <= 100000) integers\n",
    "a0, a1, . . . , an−1 (0 <= ai <= 1000). This array represents number of mushrooms growing on the\n",
    "consecutive spots along a road. You are also given integers k and m (0 <= k,m < n).\n",
    "A mushroom picker is at spot number k on the road and should perform m moves. In\n",
    "one move she moves to an adjacent spot. She collects all the mushrooms growing on spots\n",
    "she visits. The goal is to calculate the maximum number of mushrooms that the mushroom\n",
    "picker can collect in m moves.\n",
    "For example, consider array A such that:\n",
    "2 3 7 5 1 3 9\n",
    "0 1 2 3 4 5 6\n",
    "The mushroom picker starts at spot k = 4 and should perform m = 6 moves. She might\n",
    "move to spots 3, 2, 3, 4, 5, 6 and thereby collect 1+5+7+3+9 = 25 mushrooms. This is the\n",
    "maximal number of mushrooms she can collect."
   ]
  },
  {
   "cell_type": "code",
   "execution_count": 5,
   "id": "sealed-length",
   "metadata": {},
   "outputs": [],
   "source": [
    "def prefix_sums(A):\n",
    "    n = len(A)\n",
    "    P = [0] * (n + 1)\n",
    "    for k in range(1, n + 1):\n",
    "        P[k] = P[k - 1] + A[k - 1]\n",
    "    return P"
   ]
  },
  {
   "cell_type": "code",
   "execution_count": 6,
   "id": "jewish-meter",
   "metadata": {},
   "outputs": [],
   "source": [
    "def count_total(P, x, y):\n",
    "    return P[y + 1] - P[x]"
   ]
  },
  {
   "cell_type": "code",
   "execution_count": 7,
   "id": "corporate-somalia",
   "metadata": {},
   "outputs": [],
   "source": [
    "def mushrooms(A, k, m):\n",
    "    n = len(A)\n",
    "    result = 0\n",
    "    pref = prefix_sums(A)\n",
    "    for p in range(min(m, k) + 1):\n",
    "        left_pos = k - p\n",
    "        right_pos = min(n - 1, max(k, k + m - 2 * p))\n",
    "        result = max(result, count_total(pref, left_pos, right_pos))\n",
    "    for p in range(min(m + 1, n - k)):\n",
    "        right_pos = k + p\n",
    "        left_pos = max(0, min(k, k - (m - 2 * p)))\n",
    "        result = max(result, count_total(pref, left_pos, right_pos))\n",
    "    return result"
   ]
  },
  {
   "cell_type": "code",
   "execution_count": 8,
   "id": "british-charge",
   "metadata": {},
   "outputs": [
    {
     "name": "stdout",
     "output_type": "stream",
     "text": [
      "25\n"
     ]
    }
   ],
   "source": [
    "A = [2,3,7,5,1,3,9]\n",
    "k = 4\n",
    "m = 6\n",
    "print(mushrooms(A,k,m))"
   ]
  },
  {
   "cell_type": "markdown",
   "id": "endless-layout",
   "metadata": {},
   "source": [
    "# CountDiv\n",
    "\n",
    "Write a function:\n",
    "\n",
    "def solution(A, B, K)\n",
    "\n",
    "that, given three integers A, B and K, returns the number of integers within the range [A..B] that are divisible by K, i.e.:\n",
    "\n",
    "{ i : A ≤ i ≤ B, i mod K = 0 }\n",
    "\n",
    "For example, for A = 6, B = 11 and K = 2, your function should return 3, because there are three numbers divisible by 2 within the range [6..11], namely 6, 8 and 10.\n",
    "\n",
    "Write an efficient algorithm for the following assumptions:\n",
    "\n",
    "A and B are integers within the range [0..2,000,000,000];\n",
    "K is an integer within the range [1..2,000,000,000];\n",
    "A ≤ B."
   ]
  },
  {
   "cell_type": "code",
   "execution_count": 23,
   "id": "natural-intensity",
   "metadata": {},
   "outputs": [],
   "source": [
    "def CD(A, B, K):\n",
    "    result = B // K - A // K\n",
    "    if A % K == 0:\n",
    "        result += 1\n",
    "\n",
    "    return result"
   ]
  },
  {
   "cell_type": "code",
   "execution_count": 27,
   "id": "graduate-curve",
   "metadata": {},
   "outputs": [
    {
     "name": "stdout",
     "output_type": "stream",
     "text": [
      "4\n"
     ]
    }
   ],
   "source": [
    "A = 6\n",
    "B = 13\n",
    "K = 2\n",
    "print(CD(A, B, K))"
   ]
  },
  {
   "cell_type": "markdown",
   "id": "stable-massachusetts",
   "metadata": {},
   "source": [
    "# GenomicRangeQuery\n",
    "\n",
    "A DNA sequence can be represented as a string consisting of the letters A, C, G and T, which correspond to the types of successive nucleotides in the sequence. Each nucleotide has an impact factor, which is an integer. Nucleotides of types A, C, G and T have impact factors of 1, 2, 3 and 4, respectively. You are going to answer several queries of the form: What is the minimal impact factor of nucleotides contained in a particular part of the given DNA sequence?\n",
    "\n",
    "The DNA sequence is given as a non-empty string S = S[0]S[1]...S[N-1] consisting of N characters. There are M queries, which are given in non-empty arrays P and Q, each consisting of M integers. The K-th query (0 ≤ K < M) requires you to find the minimal impact factor of nucleotides contained in the DNA sequence between positions P[K] and Q[K] (inclusive).\n",
    "\n",
    "For example, consider string S = CAGCCTA and arrays P, Q such that:\n",
    "\n",
    "    P[0] = 2    Q[0] = 4\n",
    "    P[1] = 5    Q[1] = 5\n",
    "    P[2] = 0    Q[2] = 6\n",
    "The answers to these M = 3 queries are as follows:\n",
    "\n",
    "The part of the DNA between positions 2 and 4 contains nucleotides G and C (twice), whose impact factors are 3 and 2 respectively, so the answer is 2.\n",
    "The part between positions 5 and 5 contains a single nucleotide T, whose impact factor is 4, so the answer is 4.\n",
    "The part between positions 0 and 6 (the whole string) contains all nucleotides, in particular nucleotide A whose impact factor is 1, so the answer is 1.\n",
    "Write a function:\n",
    "\n",
    "def solution(S, P, Q)\n",
    "\n",
    "that, given a non-empty string S consisting of N characters and two non-empty arrays P and Q consisting of M integers, returns an array consisting of M integers specifying the consecutive answers to all queries.\n",
    "\n",
    "Result array should be returned as an array of integers.\n",
    "\n",
    "For example, given the string S = CAGCCTA and arrays P, Q such that:\n",
    "\n",
    "    P[0] = 2    Q[0] = 4\n",
    "    P[1] = 5    Q[1] = 5\n",
    "    P[2] = 0    Q[2] = 6\n",
    "the function should return the values [2, 4, 1], as explained above.\n",
    "\n",
    "Write an efficient algorithm for the following assumptions:\n",
    "\n",
    "N is an integer within the range [1..100,000];\n",
    "M is an integer within the range [1..50,000];\n",
    "each element of arrays P, Q is an integer within the range [0..N − 1];\n",
    "P[K] ≤ Q[K], where 0 ≤ K < M;\n",
    "string S consists only of upper-case English letters A, C, G, T."
   ]
  },
  {
   "cell_type": "code",
   "execution_count": 32,
   "id": "standing-investment",
   "metadata": {},
   "outputs": [],
   "source": [
    "def GRQ(S, P, Q):\n",
    "    res = []\n",
    "    for i in range(len(P)):\n",
    "        if 'A' in S[P[i]:Q[i]+1]:\n",
    "            res.append(1)\n",
    "        elif 'C' in S[P[i]:Q[i]+1]:\n",
    "            res.append(2)\n",
    "        elif 'G' in S[P[i]:Q[i]+1]:\n",
    "            res.append(3)\n",
    "        else:\n",
    "            res.append(4)\n",
    "    return res"
   ]
  },
  {
   "cell_type": "code",
   "execution_count": 33,
   "id": "obvious-teaching",
   "metadata": {},
   "outputs": [
    {
     "name": "stdout",
     "output_type": "stream",
     "text": [
      "[2, 4, 1]\n"
     ]
    }
   ],
   "source": [
    "S = 'CAGCCTA'\n",
    "P = [2, 5, 0]\n",
    "Q = [4, 5, 6]\n",
    "print(GRQ(S, P, Q))"
   ]
  },
  {
   "cell_type": "markdown",
   "id": "challenging-trustee",
   "metadata": {},
   "source": [
    "# MinAvgTwoSlice\n",
    "\n",
    "A non-empty array A consisting of N integers is given. A pair of integers (P, Q), such that 0 ≤ P < Q < N, is called a slice of array A (notice that the slice contains at least two elements). The average of a slice (P, Q) is the sum of A[P] + A[P + 1] + ... + A[Q] divided by the length of the slice. To be precise, the average equals (A[P] + A[P + 1] + ... + A[Q]) / (Q − P + 1).\n",
    "\n",
    "For example, array A such that:\n",
    "\n",
    "    A[0] = 4\n",
    "    A[1] = 2\n",
    "    A[2] = 2\n",
    "    A[3] = 5\n",
    "    A[4] = 1\n",
    "    A[5] = 5\n",
    "    A[6] = 8\n",
    "contains the following example slices:\n",
    "\n",
    "slice (1, 2), whose average is (2 + 2) / 2 = 2;\n",
    "slice (3, 4), whose average is (5 + 1) / 2 = 3;\n",
    "slice (1, 4), whose average is (2 + 2 + 5 + 1) / 4 = 2.5.\n",
    "The goal is to find the starting position of a slice whose average is minimal.\n",
    "\n",
    "Write a function:\n",
    "\n",
    "def solution(A)\n",
    "\n",
    "that, given a non-empty array A consisting of N integers, returns the starting position of the slice with the minimal average. If there is more than one slice with a minimal average, you should return the smallest starting position of such a slice.\n",
    "\n",
    "For example, given array A such that:\n",
    "\n",
    "    A[0] = 4\n",
    "    A[1] = 2\n",
    "    A[2] = 2\n",
    "    A[3] = 5\n",
    "    A[4] = 1\n",
    "    A[5] = 5\n",
    "    A[6] = 8\n",
    "the function should return 1, as explained above.\n",
    "\n",
    "Write an efficient algorithm for the following assumptions:\n",
    "\n",
    "N is an integer within the range [2..100,000];\n",
    "each element of array A is an integer within the range [−10,000..10,000]."
   ]
  },
  {
   "cell_type": "code",
   "execution_count": 35,
   "id": "lovely-malpractice",
   "metadata": {},
   "outputs": [],
   "source": [
    "def MATS(A):\n",
    "    pref = prefix_sums(A)\n",
    "    min_mean = 10000 # maximum interger is 10000\n",
    "    min_idx_from = 0\n",
    "    for i in range(len(A)):\n",
    "        for j in range(i+1,min(i+3,len(A))):\n",
    "            mean = (pref[j+1] - pref[i]) / (j-i+1)\n",
    "            if mean < min_mean:\n",
    "                min_mean = mean\n",
    "                min_idx_from = i\n",
    "    return min_idx_from"
   ]
  },
  {
   "cell_type": "code",
   "execution_count": 36,
   "id": "secondary-france",
   "metadata": {},
   "outputs": [
    {
     "name": "stdout",
     "output_type": "stream",
     "text": [
      "1\n"
     ]
    }
   ],
   "source": [
    "A = [4, 2, 2, 5, 1, 5, 8]\n",
    "print(MATS(A))"
   ]
  },
  {
   "cell_type": "markdown",
   "id": "capital-cutting",
   "metadata": {},
   "source": [
    "# PassingCars\n",
    "\n",
    "A non-empty array A consisting of N integers is given. The consecutive elements of array A represent consecutive cars on a road.\n",
    "\n",
    "Array A contains only 0s and/or 1s:\n",
    "\n",
    "0 represents a car traveling east,\n",
    "1 represents a car traveling west.\n",
    "The goal is to count passing cars. We say that a pair of cars (P, Q), where 0 ≤ P < Q < N, is passing when P is traveling to the east and Q is traveling to the west.\n",
    "\n",
    "For example, consider array A such that:\n",
    "\n",
    "  A[0] = 0\n",
    "  A[1] = 1\n",
    "  A[2] = 0\n",
    "  A[3] = 1\n",
    "  A[4] = 1\n",
    "We have five pairs of passing cars: (0, 1), (0, 3), (0, 4), (2, 3), (2, 4).\n",
    "\n",
    "Write a function:\n",
    "\n",
    "def solution(A)\n",
    "\n",
    "that, given a non-empty array A of N integers, returns the number of pairs of passing cars.\n",
    "\n",
    "The function should return −1 if the number of pairs of passing cars exceeds 1,000,000,000.\n",
    "\n",
    "For example, given:\n",
    "\n",
    "  A[0] = 0\n",
    "  A[1] = 1\n",
    "  A[2] = 0\n",
    "  A[3] = 1\n",
    "  A[4] = 1\n",
    "the function should return 5, as explained above.\n",
    "\n",
    "Write an efficient algorithm for the following assumptions:\n",
    "\n",
    "N is an integer within the range [1..100,000];\n",
    "each element of array A is an integer that can have one of the following values: 0, 1."
   ]
  },
  {
   "cell_type": "code",
   "execution_count": 38,
   "id": "eleven-resistance",
   "metadata": {},
   "outputs": [],
   "source": [
    "def PC(array):\n",
    "    zero_count = 0\n",
    "    combinations = 0\n",
    "    for item in array:\n",
    "        if item == 0:\n",
    "            zero_count += 1\n",
    "        else:\n",
    "            combinations += zero_count\n",
    "\n",
    "        if combinations > 1000000000:\n",
    "            return -1\n",
    "\n",
    "    return combinations"
   ]
  },
  {
   "cell_type": "code",
   "execution_count": 39,
   "id": "extended-tobago",
   "metadata": {},
   "outputs": [
    {
     "name": "stdout",
     "output_type": "stream",
     "text": [
      "5\n"
     ]
    }
   ],
   "source": [
    "A = [0, 1, 0, 1, 1]\n",
    "print(PC(A))"
   ]
  },
  {
   "cell_type": "markdown",
   "id": "incident-newport",
   "metadata": {},
   "source": [
    "# 6 Sorting"
   ]
  },
  {
   "cell_type": "markdown",
   "id": "previous-steering",
   "metadata": {},
   "source": [
    "# Distinct\n",
    "\n",
    "Write a function\n",
    "\n",
    "def solution(A)\n",
    "\n",
    "that, given an array A consisting of N integers, returns the number of distinct values in array A.\n",
    "\n",
    "For example, given array A consisting of six elements such that:\n",
    "\n",
    " A[0] = 2    A[1] = 1    A[2] = 1\n",
    " A[3] = 2    A[4] = 3    A[5] = 1\n",
    "the function should return 3, because there are 3 distinct values appearing in array A, namely 1, 2 and 3.\n",
    "\n",
    "Write an efficient algorithm for the following assumptions:\n",
    "\n",
    "N is an integer within the range [0..100,000];\n",
    "each element of array A is an integer within the range [−1,000,000..1,000,000]."
   ]
  },
  {
   "cell_type": "code",
   "execution_count": 40,
   "id": "seventh-communications",
   "metadata": {},
   "outputs": [],
   "source": [
    "def Dis(A):\n",
    "    N = len(A)\n",
    "\n",
    "    if N == 0:\n",
    "        return 0\n",
    "\n",
    "    A.sort()\n",
    "\n",
    "    distinct = 1\n",
    "    for ind in range(1, N):\n",
    "        if A[ind] != A[ind - 1]:\n",
    "            distinct += 1\n",
    "\n",
    "    return distinct"
   ]
  },
  {
   "cell_type": "code",
   "execution_count": 41,
   "id": "correct-costa",
   "metadata": {},
   "outputs": [
    {
     "name": "stdout",
     "output_type": "stream",
     "text": [
      "3\n"
     ]
    }
   ],
   "source": [
    "A = [2, 1, 1, 2, 3, 1]\n",
    "print(Dis(A))"
   ]
  },
  {
   "cell_type": "markdown",
   "id": "parliamentary-binding",
   "metadata": {},
   "source": [
    "# MaxProductOfThree\n",
    "\n",
    "A non-empty array A consisting of N integers is given. The product of triplet (P, Q, R) equates to A[P] * A[Q] * A[R] (0 ≤ P < Q < R < N).\n",
    "\n",
    "For example, array A such that:\n",
    "\n",
    "  A[0] = -3\n",
    "  A[1] = 1\n",
    "  A[2] = 2\n",
    "  A[3] = -2\n",
    "  A[4] = 5\n",
    "  A[5] = 6\n",
    "contains the following example triplets:\n",
    "\n",
    "(0, 1, 2), product is −3 * 1 * 2 = −6\n",
    "(1, 2, 4), product is 1 * 2 * 5 = 10\n",
    "(2, 4, 5), product is 2 * 5 * 6 = 60\n",
    "Your goal is to find the maximal product of any triplet.\n",
    "\n",
    "Write a function:\n",
    "\n",
    "def solution(A)\n",
    "\n",
    "that, given a non-empty array A, returns the value of the maximal product of any triplet.\n",
    "\n",
    "For example, given array A such that:\n",
    "\n",
    "  A[0] = -3\n",
    "  A[1] = 1\n",
    "  A[2] = 2\n",
    "  A[3] = -2\n",
    "  A[4] = 5\n",
    "  A[5] = 6\n",
    "the function should return 60, as the product of triplet (2, 4, 5) is maximal.\n",
    "\n",
    "Write an efficient algorithm for the following assumptions:\n",
    "\n",
    "N is an integer within the range [3..100,000];\n",
    "each element of array A is an integer within the range [−1,000..1,000]."
   ]
  },
  {
   "cell_type": "code",
   "execution_count": 42,
   "id": "internal-scottish",
   "metadata": {},
   "outputs": [],
   "source": [
    "def MPT(arr):\n",
    "\n",
    "    if not arr:\n",
    "        return 0\n",
    "\n",
    "    if len(arr) == 3:\n",
    "        m   = 1\n",
    "        for i in arr:\n",
    "            m *= i\n",
    "        return m\n",
    "    else:\n",
    "        max_num       = min(arr)\n",
    "        second_max    = min(arr)\n",
    "        tercero_max   = min(arr)\n",
    "\n",
    "        min_num       = max(arr)\n",
    "        min_num_2     = max(arr)\n",
    "\n",
    "        for i in range(0, len(arr)):\n",
    "\n",
    "            if (arr[i] > max_num):\n",
    "                tercero_max = second_max\n",
    "                second_max  = max_num\n",
    "                max_num     = arr[i]\n",
    "            elif arr[i] > second_max:\n",
    "                tercero_max = second_max\n",
    "                second_max  = arr[i]\n",
    "            elif arr[i] > tercero_max:\n",
    "                tercero_max = arr[i]\n",
    "\n",
    "            if arr[i] < min_num:\n",
    "                min_num_2 = min_num\n",
    "                min_num   = arr[i]\n",
    "            elif arr[i] < min_num_2:\n",
    "                min_num_2 = arr[i]\n",
    "\n",
    "        return max( max_num * second_max * tercero_max, max_num * min_num * min_num_2)"
   ]
  },
  {
   "cell_type": "code",
   "execution_count": 44,
   "id": "unsigned-recovery",
   "metadata": {},
   "outputs": [
    {
     "name": "stdout",
     "output_type": "stream",
     "text": [
      "60\n"
     ]
    }
   ],
   "source": [
    "A = [-3, 1, 2, -2, 5, 6]\n",
    "print(MPT(A))"
   ]
  },
  {
   "cell_type": "markdown",
   "id": "induced-bidding",
   "metadata": {},
   "source": [
    "# NumberOfDiscIntersections\n",
    "\n",
    "We draw N discs on a plane. The discs are numbered from 0 to N − 1. An array A of N non-negative integers, specifying the radiuses of the discs, is given. The J-th disc is drawn with its center at (J, 0) and radius A[J].\n",
    "\n",
    "We say that the J-th disc and K-th disc intersect if J ≠ K and the J-th and K-th discs have at least one common point (assuming that the discs contain their borders).\n",
    "\n",
    "The figure below shows discs drawn for N = 6 and A as follows:\n",
    "\n",
    "  A[0] = 1\n",
    "  A[1] = 5\n",
    "  A[2] = 2\n",
    "  A[3] = 1\n",
    "  A[4] = 4\n",
    "  A[5] = 0\n",
    "\n",
    "\n",
    "There are eleven (unordered) pairs of discs that intersect, namely:\n",
    "\n",
    "discs 1 and 4 intersect, and both intersect with all the other discs;\n",
    "disc 2 also intersects with discs 0 and 3.\n",
    "Write a function:\n",
    "\n",
    "def solution(A)\n",
    "\n",
    "that, given an array A describing N discs as explained above, returns the number of (unordered) pairs of intersecting discs. The function should return −1 if the number of intersecting pairs exceeds 10,000,000.\n",
    "\n",
    "Given array A shown above, the function should return 11, as explained above.\n",
    "\n",
    "Write an efficient algorithm for the following assumptions:\n",
    "\n",
    "N is an integer within the range [0..100,000];\n",
    "each element of array A is an integer within the range [0..2,147,483,647]."
   ]
  },
  {
   "cell_type": "code",
   "execution_count": 45,
   "id": "otherwise-banks",
   "metadata": {},
   "outputs": [],
   "source": [
    "def NDisc(A):\n",
    "    if len(A)==0:\n",
    "        return 0\n",
    "    \n",
    "    ups = [0]*len(A)\n",
    "    downs = [0]*len(A)\n",
    "    for index in range(0,len(A)):\n",
    "        current = A[index]\n",
    "        \n",
    "        lower = max(index-current,0)\n",
    "        upper = min(len(A)-1, index+current)\n",
    "        \n",
    "        ups[lower] +=1\n",
    "        downs[upper] -= 1\n",
    "    \n",
    "   \n",
    "    existing = [0] * (len(A)+1)\n",
    "    existing[0] = ups[0]\n",
    "    for index in range(1,len(A)):\n",
    "        existing[index] = existing[index-1] + ups[index] + downs[index-1]\n",
    "    \n",
    "    result = 0\n",
    "    \n",
    "    for index in range(0, len(ups)):\n",
    "        if ups[index] > 0:\n",
    "            up = ups[index]\n",
    "            diff = existing[index] - up\n",
    "            result += up*(up-1)/2 + up*diff\n",
    "            \n",
    "    if result > 10000000:\n",
    "        return -1\n",
    "    \n",
    "    return result"
   ]
  },
  {
   "cell_type": "code",
   "execution_count": 46,
   "id": "informed-phenomenon",
   "metadata": {},
   "outputs": [
    {
     "name": "stdout",
     "output_type": "stream",
     "text": [
      "11.0\n"
     ]
    }
   ],
   "source": [
    "A = [1,5,2,1,4,0]\n",
    "print(NDisc(A))"
   ]
  },
  {
   "cell_type": "markdown",
   "id": "abandoned-diana",
   "metadata": {},
   "source": [
    "# Triangle\n",
    "\n",
    "An array A consisting of N integers is given. A triplet (P, Q, R) is triangular if 0 ≤ P < Q < R < N and:\n",
    "\n",
    "A[P] + A[Q] > A[R],\n",
    "A[Q] + A[R] > A[P],\n",
    "A[R] + A[P] > A[Q].\n",
    "For example, consider array A such that:\n",
    "\n",
    "  A[0] = 10    A[1] = 2    A[2] = 5\n",
    "  A[3] = 1     A[4] = 8    A[5] = 20\n",
    "Triplet (0, 2, 4) is triangular.\n",
    "\n",
    "Write a function:\n",
    "\n",
    "def solution(A)\n",
    "\n",
    "that, given an array A consisting of N integers, returns 1 if there exists a triangular triplet for this array and returns 0 otherwise.\n",
    "\n",
    "For example, given array A such that:\n",
    "\n",
    "  A[0] = 10    A[1] = 2    A[2] = 5\n",
    "  A[3] = 1     A[4] = 8    A[5] = 20\n",
    "the function should return 1, as explained above. Given array A such that:\n",
    "\n",
    "  A[0] = 10    A[1] = 50    A[2] = 5\n",
    "  A[3] = 1\n",
    "the function should return 0.\n",
    "\n",
    "Write an efficient algorithm for the following assumptions:\n",
    "\n",
    "N is an integer within the range [0..100,000];\n",
    "each element of array A is an integer within the range [−2,147,483,648..2,147,483,647]."
   ]
  },
  {
   "cell_type": "code",
   "execution_count": 49,
   "id": "meaningful-labor",
   "metadata": {},
   "outputs": [],
   "source": [
    "def Tri(A):\n",
    "    A.sort()\n",
    "    \n",
    "    for index in range(0,len(A)-2):\n",
    "        if A[index]+A[index+1] > A[index+2]:\n",
    "            return 1\n",
    "            \n",
    "    return 0"
   ]
  },
  {
   "cell_type": "code",
   "execution_count": 50,
   "id": "nominated-cleaners",
   "metadata": {},
   "outputs": [
    {
     "name": "stdout",
     "output_type": "stream",
     "text": [
      "1 0\n"
     ]
    }
   ],
   "source": [
    "A=[10,2,5,1,8,20]\n",
    "B=[10,50,5,1]\n",
    "print(Tri(A),Tri(B))"
   ]
  }
 ],
 "metadata": {
  "kernelspec": {
   "display_name": "Python 3",
   "language": "python",
   "name": "python3"
  },
  "language_info": {
   "codemirror_mode": {
    "name": "ipython",
    "version": 3
   },
   "file_extension": ".py",
   "mimetype": "text/x-python",
   "name": "python",
   "nbconvert_exporter": "python",
   "pygments_lexer": "ipython3",
   "version": "3.8.5"
  },
  "latex_envs": {
   "LaTeX_envs_menu_present": true,
   "autoclose": false,
   "autocomplete": true,
   "bibliofile": "biblio.bib",
   "cite_by": "apalike",
   "current_citInitial": 1,
   "eqLabelWithNumbers": true,
   "eqNumInitial": 1,
   "hotkeys": {
    "equation": "Ctrl-E",
    "itemize": "Ctrl-I"
   },
   "labels_anchors": false,
   "latex_user_defs": false,
   "report_style_numbering": false,
   "user_envs_cfg": false
  },
  "toc": {
   "base_numbering": 1,
   "nav_menu": {},
   "number_sections": false,
   "sideBar": true,
   "skip_h1_title": false,
   "title_cell": "Table of Contents",
   "title_sidebar": "Contents",
   "toc_cell": false,
   "toc_position": {},
   "toc_section_display": true,
   "toc_window_display": false
  },
  "varInspector": {
   "cols": {
    "lenName": 16,
    "lenType": 16,
    "lenVar": 40
   },
   "kernels_config": {
    "python": {
     "delete_cmd_postfix": "",
     "delete_cmd_prefix": "del ",
     "library": "var_list.py",
     "varRefreshCmd": "print(var_dic_list())"
    },
    "r": {
     "delete_cmd_postfix": ") ",
     "delete_cmd_prefix": "rm(",
     "library": "var_list.r",
     "varRefreshCmd": "cat(var_dic_list()) "
    }
   },
   "types_to_exclude": [
    "module",
    "function",
    "builtin_function_or_method",
    "instance",
    "_Feature"
   ],
   "window_display": false
  }
 },
 "nbformat": 4,
 "nbformat_minor": 5
}
