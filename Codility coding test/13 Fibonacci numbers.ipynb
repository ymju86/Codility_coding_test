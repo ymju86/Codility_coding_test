{
 "cells": [
  {
   "cell_type": "markdown",
   "id": "specific-prophet",
   "metadata": {},
   "source": [
    "# 13 Fibonacci numbers"
   ]
  },
  {
   "cell_type": "code",
   "execution_count": 1,
   "id": "sitting-saver",
   "metadata": {},
   "outputs": [],
   "source": [
    "def fibonacci(n):\n",
    "    if (n <= 1):\n",
    "        return n\n",
    "    return fibonacci(n - 1) + fibonacci(n - 2)"
   ]
  },
  {
   "cell_type": "code",
   "execution_count": 2,
   "id": "ranging-model",
   "metadata": {},
   "outputs": [
    {
     "name": "stdout",
     "output_type": "stream",
     "text": [
      "5\n"
     ]
    }
   ],
   "source": [
    "print(fibonacci(5))"
   ]
  },
  {
   "cell_type": "code",
   "execution_count": 3,
   "id": "moral-westminster",
   "metadata": {},
   "outputs": [],
   "source": [
    "def fibonacciDynamic(n):\n",
    "    fib = [0] * (n + 2)\n",
    "    fib[1] = 1\n",
    "    for i in xrange(2, n + 1):\n",
    "        fib[i] = fib[i - 1] + fib[i - 2]\n",
    "    return fib[n]"
   ]
  },
  {
   "cell_type": "markdown",
   "id": "unsigned-puppy",
   "metadata": {},
   "source": [
    "# FibFrog\n",
    "\n",
    "The Fibonacci sequence is defined using the following recursive formula:\n",
    "\n",
    "    F(0) = 0\n",
    "    F(1) = 1\n",
    "    F(M) = F(M - 1) + F(M - 2) if M >= 2\n",
    "A small frog wants to get to the other side of a river. The frog is initially located at one bank of the river (position −1) and wants to get to the other bank (position N). The frog can jump over any distance F(K), where F(K) is the K-th Fibonacci number. Luckily, there are many leaves on the river, and the frog can jump between the leaves, but only in the direction of the bank at position N.\n",
    "\n",
    "The leaves on the river are represented in an array A consisting of N integers. Consecutive elements of array A represent consecutive positions from 0 to N − 1 on the river. Array A contains only 0s and/or 1s:\n",
    "\n",
    "0 represents a position without a leaf;\n",
    "1 represents a position containing a leaf.\n",
    "The goal is to count the minimum number of jumps in which the frog can get to the other side of the river (from position −1 to position N). The frog can jump between positions −1 and N (the banks of the river) and every position containing a leaf.\n",
    "\n",
    "For example, consider array A such that:\n",
    "\n",
    "    A[0] = 0\n",
    "    A[1] = 0\n",
    "    A[2] = 0\n",
    "    A[3] = 1\n",
    "    A[4] = 1\n",
    "    A[5] = 0\n",
    "    A[6] = 1\n",
    "    A[7] = 0\n",
    "    A[8] = 0\n",
    "    A[9] = 0\n",
    "    A[10] = 0\n",
    "The frog can make three jumps of length F(5) = 5, F(3) = 2 and F(5) = 5.\n",
    "\n",
    "Write a function:\n",
    "\n",
    "def solution(A)\n",
    "\n",
    "that, given an array A consisting of N integers, returns the minimum number of jumps by which the frog can get to the other side of the river. If the frog cannot reach the other side of the river, the function should return −1.\n",
    "\n",
    "For example, given:\n",
    "\n",
    "    A[0] = 0\n",
    "    A[1] = 0\n",
    "    A[2] = 0\n",
    "    A[3] = 1\n",
    "    A[4] = 1\n",
    "    A[5] = 0\n",
    "    A[6] = 1\n",
    "    A[7] = 0\n",
    "    A[8] = 0\n",
    "    A[9] = 0\n",
    "    A[10] = 0\n",
    "the function should return 3, as explained above.\n",
    "\n",
    "Write an efficient algorithm for the following assumptions:\n",
    "\n",
    "N is an integer within the range [0..100,000];\n",
    "each element of array A is an integer that can have one of the following values: 0, 1."
   ]
  },
  {
   "cell_type": "code",
   "execution_count": 5,
   "id": "yellow-egyptian",
   "metadata": {},
   "outputs": [],
   "source": [
    "def solution(A):\n",
    "\n",
    "    max_size = 100001\n",
    "    n = len(A)\n",
    "\n",
    "    fibs = [0, 1]\n",
    "    while fibs[-1] < n + 1:\n",
    "        fibs.append(fibs[-1] + fibs[-2])\n",
    "\n",
    "    A.append(1)\n",
    "    result = [max_size]*(n+1)\n",
    "    for index in range(n+1):\n",
    "        if A[index] == 0:\n",
    "            continue\n",
    "\n",
    "        for fib in fibs:\n",
    "            if index - fib < -1:\n",
    "                break\n",
    "\n",
    "            prev = index-fib\n",
    "\n",
    "            if prev == -1:\n",
    "                result[index] = 1\n",
    "                break\n",
    "\n",
    "            if result[prev] != max_size:\n",
    "                result[index] = min(result[index], result[prev]+1)\n",
    "\n",
    "    if result[-1] == max_size:\n",
    "        return -1\n",
    "\n",
    "    return result[-1]\n"
   ]
  },
  {
   "cell_type": "code",
   "execution_count": 6,
   "id": "indian-commons",
   "metadata": {},
   "outputs": [
    {
     "name": "stdout",
     "output_type": "stream",
     "text": [
      "3\n",
      "1\n",
      "1\n",
      "1\n"
     ]
    }
   ],
   "source": [
    "print (solution([0, 0, 0, 1, 1, 0, 1, 0, 0, 0, 0]))\n",
    "print (solution([0, 0]))\n",
    "print (solution([1, 1]))\n",
    "print (solution([]))"
   ]
  },
  {
   "cell_type": "markdown",
   "id": "atlantic-vocabulary",
   "metadata": {},
   "source": [
    "# Ladder\n",
    "\n",
    "You have to climb up a ladder. The ladder has exactly N rungs, numbered from 1 to N. With each step, you can ascend by one or two rungs. More precisely:\n",
    "\n",
    "with your first step you can stand on rung 1 or 2,\n",
    "if you are on rung K, you can move to rungs K + 1 or K + 2,\n",
    "finally you have to stand on rung N.\n",
    "Your task is to count the number of different ways of climbing to the top of the ladder.\n",
    "\n",
    "For example, given N = 4, you have five different ways of climbing, ascending by:\n",
    "\n",
    "1, 1, 1 and 1 rung,\n",
    "1, 1 and 2 rungs,\n",
    "1, 2 and 1 rung,\n",
    "2, 1 and 1 rungs, and\n",
    "2 and 2 rungs.\n",
    "Given N = 5, you have eight different ways of climbing, ascending by:\n",
    "\n",
    "1, 1, 1, 1 and 1 rung,\n",
    "1, 1, 1 and 2 rungs,\n",
    "1, 1, 2 and 1 rung,\n",
    "1, 2, 1 and 1 rung,\n",
    "1, 2 and 2 rungs,\n",
    "2, 1, 1 and 1 rungs,\n",
    "2, 1 and 2 rungs, and\n",
    "2, 2 and 1 rung.\n",
    "The number of different ways can be very large, so it is sufficient to return the result modulo 2P, for a given integer P.\n",
    "\n",
    "Write a function:\n",
    "\n",
    "def solution(A, B)\n",
    "\n",
    "that, given two non-empty arrays A and B of L integers, returns an array consisting of L integers specifying the consecutive answers; position I should contain the number of different ways of climbing the ladder with A[I] rungs modulo 2B[I].\n",
    "\n",
    "For example, given L = 5 and:\n",
    "\n",
    "    A[0] = 4   B[0] = 3\n",
    "    A[1] = 4   B[1] = 2\n",
    "    A[2] = 5   B[2] = 4\n",
    "    A[3] = 5   B[3] = 3\n",
    "    A[4] = 1   B[4] = 1\n",
    "the function should return the sequence [5, 1, 8, 0, 1], as explained above.\n",
    "\n",
    "Write an efficient algorithm for the following assumptions:\n",
    "\n",
    "L is an integer within the range [1..50,000];\n",
    "each element of array A is an integer within the range [1..L];\n",
    "each element of array B is an integer within the range [1..30]."
   ]
  },
  {
   "cell_type": "code",
   "execution_count": 7,
   "id": "parliamentary-camcorder",
   "metadata": {},
   "outputs": [],
   "source": [
    "def solution(A, B):\n",
    "    max_modulo = 2 ** 30\n",
    "    fibs = [0] * (len(A)+2)\n",
    "\n",
    "    fibs[1] = 1\n",
    "\n",
    "    for index in range(2, len(A)+2):\n",
    "        fibs[index] = (fibs[index-1] + fibs[index-2]) % max_modulo\n",
    "\n",
    "    result =[]\n",
    "\n",
    "    for index in range(len(A)):\n",
    "        fib_val = fibs[A[index]+1]\n",
    "        mod_val = 2 ** B[index]\n",
    "        result.append(fib_val % mod_val)\n",
    "\n",
    "    return result"
   ]
  },
  {
   "cell_type": "code",
   "execution_count": 8,
   "id": "sapphire-jefferson",
   "metadata": {},
   "outputs": [
    {
     "name": "stdout",
     "output_type": "stream",
     "text": [
      "[5, 1, 8, 0, 1]\n"
     ]
    }
   ],
   "source": [
    "A=[4,4,5,5,1]\n",
    "B=[3,2,4,3,1]\n",
    "print(solution(A,B))"
   ]
  },
  {
   "cell_type": "code",
   "execution_count": null,
   "id": "central-ireland",
   "metadata": {},
   "outputs": [],
   "source": []
  }
 ],
 "metadata": {
  "kernelspec": {
   "display_name": "Python 3",
   "language": "python",
   "name": "python3"
  },
  "language_info": {
   "codemirror_mode": {
    "name": "ipython",
    "version": 3
   },
   "file_extension": ".py",
   "mimetype": "text/x-python",
   "name": "python",
   "nbconvert_exporter": "python",
   "pygments_lexer": "ipython3",
   "version": "3.8.5"
  },
  "latex_envs": {
   "LaTeX_envs_menu_present": true,
   "autoclose": false,
   "autocomplete": true,
   "bibliofile": "biblio.bib",
   "cite_by": "apalike",
   "current_citInitial": 1,
   "eqLabelWithNumbers": true,
   "eqNumInitial": 1,
   "hotkeys": {
    "equation": "Ctrl-E",
    "itemize": "Ctrl-I"
   },
   "labels_anchors": false,
   "latex_user_defs": false,
   "report_style_numbering": false,
   "user_envs_cfg": false
  },
  "toc": {
   "base_numbering": 1,
   "nav_menu": {},
   "number_sections": false,
   "sideBar": true,
   "skip_h1_title": false,
   "title_cell": "Table of Contents",
   "title_sidebar": "Contents",
   "toc_cell": false,
   "toc_position": {},
   "toc_section_display": true,
   "toc_window_display": false
  },
  "varInspector": {
   "cols": {
    "lenName": 16,
    "lenType": 16,
    "lenVar": 40
   },
   "kernels_config": {
    "python": {
     "delete_cmd_postfix": "",
     "delete_cmd_prefix": "del ",
     "library": "var_list.py",
     "varRefreshCmd": "print(var_dic_list())"
    },
    "r": {
     "delete_cmd_postfix": ") ",
     "delete_cmd_prefix": "rm(",
     "library": "var_list.r",
     "varRefreshCmd": "cat(var_dic_list()) "
    }
   },
   "types_to_exclude": [
    "module",
    "function",
    "builtin_function_or_method",
    "instance",
    "_Feature"
   ],
   "window_display": false
  }
 },
 "nbformat": 4,
 "nbformat_minor": 5
}
